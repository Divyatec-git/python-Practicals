{
 "cells": [
  {
   "cell_type": "markdown",
   "id": "f1305739",
   "metadata": {},
   "source": [
    "# If else"
   ]
  },
  {
   "cell_type": "code",
   "execution_count": 2,
   "id": "a00b7577",
   "metadata": {},
   "outputs": [
    {
     "name": "stdout",
     "output_type": "stream",
     "text": [
      "num is 70\n"
     ]
    }
   ],
   "source": [
    "num = 70 \n",
    "if num == 70:\n",
    "    print(\"num is 70\")\n",
    "else:\n",
    "    print(\"num is not 70\")"
   ]
  },
  {
   "cell_type": "code",
   "execution_count": 3,
   "id": "80c5a295",
   "metadata": {},
   "outputs": [
    {
     "name": "stdout",
     "output_type": "stream",
     "text": [
      "age is gretaer thna 30\n"
     ]
    }
   ],
   "source": [
    "age = 40 \n",
    "\n",
    "if age  > 30 :\n",
    "    print(\"age is gretaer thna 30\")\n",
    "else:\n",
    "    print(\"age is les than 30\")\n",
    "    "
   ]
  },
  {
   "cell_type": "code",
   "execution_count": 8,
   "id": "e08de994",
   "metadata": {},
   "outputs": [
    {
     "name": "stdout",
     "output_type": "stream",
     "text": [
      "you are young\n"
     ]
    }
   ],
   "source": [
    "age =35\n",
    "\n",
    "if age < 25:\n",
    "    print(\"tean ager\")\n",
    "elif age > 25 and age < 40:\n",
    "    print(\"you are young\")\n",
    "else:\n",
    "    print(\"you are old\")"
   ]
  },
  {
   "cell_type": "code",
   "execution_count": null,
   "id": "a83b7268",
   "metadata": {},
   "outputs": [],
   "source": []
  }
 ],
 "metadata": {
  "kernelspec": {
   "display_name": "Python 3",
   "language": "python",
   "name": "python3"
  },
  "language_info": {
   "codemirror_mode": {
    "name": "ipython",
    "version": 3
   },
   "file_extension": ".py",
   "mimetype": "text/x-python",
   "name": "python",
   "nbconvert_exporter": "python",
   "pygments_lexer": "ipython3",
   "version": "3.12.9"
  }
 },
 "nbformat": 4,
 "nbformat_minor": 5
}
