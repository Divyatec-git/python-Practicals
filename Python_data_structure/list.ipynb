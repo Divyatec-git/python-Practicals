{
 "cells": [
  {
   "cell_type": "code",
   "execution_count": 5,
   "id": "bacb86d3",
   "metadata": {},
   "outputs": [
    {
     "name": "stdout",
     "output_type": "stream",
     "text": [
      "['apple', 'banana', 'cherry']\n",
      "apple\n"
     ]
    }
   ],
   "source": [
    "fruit  = [\"apple\", \"banana\", \"cherry\"]\n",
    "print(fruit)\n",
    "print(fruit[0])"
   ]
  },
  {
   "cell_type": "code",
   "execution_count": null,
   "id": "34fe8988",
   "metadata": {},
   "outputs": [
    {
     "name": "stdout",
     "output_type": "stream",
     "text": [
      "['newFood', 'banana', 'cherry']\n"
     ]
    }
   ],
   "source": [
    "## modify value of perticluar index\n",
    "fruit  = [\"apple\", \"banana\", \"cherry\"]\n",
    "fruit[0] = \"newFood\"\n",
    "print(fruit)"
   ]
  },
  {
   "cell_type": "code",
   "execution_count": 6,
   "id": "38e2ff42",
   "metadata": {},
   "outputs": [
    {
     "name": "stdout",
     "output_type": "stream",
     "text": [
      "cherry\n"
     ]
    }
   ],
   "source": [
    "fruit  = [\"apple\", \"banana\", \"cherry\"]\n",
    "print(fruit[-1])"
   ]
  },
  {
   "cell_type": "code",
   "execution_count": 16,
   "id": "ad930454",
   "metadata": {},
   "outputs": [
    {
     "name": "stdout",
     "output_type": "stream",
     "text": [
      "['apple', 'watermelon', 'kiwi']\n",
      "['apple', 'n', 'e', 'w', 'f', 'o', 'o', 'd']\n",
      "['n', 'e', 'w', 'f', 'o', 'o', 'd']\n",
      "['n', 'e', 'w', 'f', 'o', 'o', 'd', 'cherry']\n",
      "['n', 'e', 'w', 'f', 'o', 'o', 'd']\n"
     ]
    }
   ],
   "source": [
    "fruit  = [\"apple\", \"banana\", \"cherry\"]\n",
    "fruit[1:3] = [\"watermelon\", \"kiwi\"]\n",
    "print(fruit)\n",
    "fruit  = [\"apple\", \"banana\", \"cherry\"]\n",
    "fruit[1:] = \"newfood\"\n",
    "print(fruit)\n",
    "fruit  = [\"apple\", \"banana\", \"cherry\"]\n",
    "fruit[0:] = \"newfood\"\n",
    "print(fruit)\n",
    "fruit  = [\"apple\", \"banana\", \"cherry\"]\n",
    "fruit[:-1] = \"newfood\"\n",
    "print(fruit)\n",
    "fruit  = [\"apple\", \"banana\", \"cherry\"]\n",
    "fruit[:] = \"newfood\"\n",
    "print(fruit)"
   ]
  },
  {
   "cell_type": "code",
   "execution_count": 18,
   "id": "822b873c",
   "metadata": {},
   "outputs": [
    {
     "name": "stdout",
     "output_type": "stream",
     "text": [
      "['apple', 'banana', 'cherry', 'newfood']\n"
     ]
    }
   ],
   "source": [
    "fruit  = [\"apple\", \"banana\", \"cherry\"]\n",
    "fruit.append(\"newfood\")\n",
    "print(fruit)"
   ]
  },
  {
   "cell_type": "code",
   "execution_count": 26,
   "id": "ca3433fc",
   "metadata": {},
   "outputs": [
    {
     "name": "stdout",
     "output_type": "stream",
     "text": [
      "['apple', 'newfood', 'banana', 'cherry']\n",
      "['apple', 'banana', 'newfood', 'cherry']\n"
     ]
    }
   ],
   "source": [
    "fruit  = [\"apple\", \"banana\", \"cherry\"]\n",
    "fruit.insert(1, \"newfood\") # add in index 1\n",
    "print(fruit)\n",
    "fruit  = [\"apple\", \"banana\", \"cherry\"]\n",
    "fruit.insert(-1, \"newfood\") # add in index after -1 index means -2 index \n",
    "print(fruit)"
   ]
  },
  {
   "cell_type": "code",
   "execution_count": 30,
   "id": "1b5259c9",
   "metadata": {},
   "outputs": [
    {
     "name": "stdout",
     "output_type": "stream",
     "text": [
      "['apple', 'cherry']\n"
     ]
    }
   ],
   "source": [
    "fruit  = [\"apple\", \"banana\", \"cherry\"]\n",
    "fruit.remove(\"banana\") # if add any any another value which is not in list thne it will give error\n",
    "print(fruit)"
   ]
  },
  {
   "cell_type": "code",
   "execution_count": 37,
   "id": "41010b43",
   "metadata": {},
   "outputs": [
    {
     "name": "stdout",
     "output_type": "stream",
     "text": [
      "['apple', 'banana']\n",
      "['apple']\n"
     ]
    }
   ],
   "source": [
    "fruit  = [\"apple\", \"banana\", \"cherry\"]\n",
    "fruit.pop() # if you not pass any key thn remove last value\n",
    "print(fruit)\n",
    "fruit.pop(1) # if add any any another key which is not in list then it will give error \n",
    "print(fruit)"
   ]
  },
  {
   "cell_type": "code",
   "execution_count": null,
   "id": "1dcf660d",
   "metadata": {},
   "outputs": [
    {
     "name": "stdout",
     "output_type": "stream",
     "text": [
      "[]\n"
     ]
    }
   ],
   "source": [
    "fruit  = [\"apple\", \"banana\", \"cherry\"]\n",
    "fruit.clear() # clear all values in the list\n",
    "print(fruit)"
   ]
  },
  {
   "cell_type": "code",
   "execution_count": 46,
   "id": "deed75d4",
   "metadata": {},
   "outputs": [
    {
     "name": "stdout",
     "output_type": "stream",
     "text": [
      "3\n",
      "1\n"
     ]
    }
   ],
   "source": [
    "fruit  = [\"apple\", \"banana\", \"cherry\"]\n",
    "print(len(fruit)) # find the lenth of list and return\n",
    "index_value = fruit.index(\"banana\")  # retuen then index number of value and if value not found return error\n",
    "print(index_value)"
   ]
  },
  {
   "cell_type": "code",
   "execution_count": 62,
   "id": "93ee45a4",
   "metadata": {},
   "outputs": [
    {
     "name": "stdout",
     "output_type": "stream",
     "text": [
      "['apple', 'banana', 'cherry', 'xyz']\n",
      "['xyz', 'cherry', 'banana', 'apple']\n",
      "['Banana', 'apple', 'cherry', 'xyz']\n",
      "['90', 'apple', 'banana']\n"
     ]
    }
   ],
   "source": [
    "fruit  = [\"apple\", \"xyz\",\"banana\", \"cherry\"]\n",
    "fruit.sort()\n",
    "print(fruit)\n",
    "fruit  = [\"apple\", \"xyz\",\"banana\", \"cherry\"]\n",
    "fruit.sort(reverse=True) ## in desc order\n",
    "print(fruit)\n",
    "fruit  = [\"apple\", \"xyz\",\"Banana\", \"cherry\"]\n",
    "fruit.sort() # if capital and small both avaiabl in list then capital later will frist asc sorting  and number and string not sorted if both are in one list it will throw error\n",
    "print(fruit)\n",
    "fruit = [\"apple\", \"banana\", \"90\"] \n",
    "fruit.sort()# if number is string formate it will frist get number asc\n",
    "print(fruit)"
   ]
  },
  {
   "cell_type": "code",
   "execution_count": null,
   "id": "3778c38a",
   "metadata": {},
   "outputs": [
    {
     "ename": "TypeError",
     "evalue": "'<' not supported between instances of 'int' and 'str'",
     "output_type": "error",
     "traceback": [
      "\u001b[0;31m---------------------------------------------------------------------------\u001b[0m",
      "\u001b[0;31mTypeError\u001b[0m                                 Traceback (most recent call last)",
      "Cell \u001b[0;32mIn[60], line 2\u001b[0m\n\u001b[1;32m      1\u001b[0m fruit \u001b[38;5;241m=\u001b[39m [\u001b[38;5;124m\"\u001b[39m\u001b[38;5;124mapple\u001b[39m\u001b[38;5;124m\"\u001b[39m, \u001b[38;5;124m\"\u001b[39m\u001b[38;5;124mbanana\u001b[39m\u001b[38;5;124m\"\u001b[39m, \u001b[38;5;241m80\u001b[39m] \n\u001b[0;32m----> 2\u001b[0m fruit\u001b[38;5;241m.\u001b[39msort()\u001b[38;5;66;03m# if number is string formate it will frist get number asc\u001b[39;00m\n\u001b[1;32m      3\u001b[0m \u001b[38;5;28mprint\u001b[39m(fruit)\n",
      "\u001b[0;31mTypeError\u001b[0m: '<' not supported between instances of 'int' and 'str'"
     ]
    }
   ],
   "source": [
    "fruit = [\"apple\", \"banana\", 80] \n",
    "fruit.sort()# number adn string not sorted if both are in one list it will throw errorc\n",
    "print(fruit)"
   ]
  },
  {
   "cell_type": "code",
   "execution_count": 63,
   "id": "87ce1725",
   "metadata": {},
   "outputs": [
    {
     "name": "stdout",
     "output_type": "stream",
     "text": [
      "['banana', 'apple', '90']\n"
     ]
    }
   ],
   "source": [
    "fruit.reverse()\n",
    "print(fruit)"
   ]
  },
  {
   "cell_type": "code",
   "execution_count": 69,
   "id": "cfe0570e",
   "metadata": {},
   "outputs": [
    {
     "name": "stdout",
     "output_type": "stream",
     "text": [
      "['apple', 'banana', 'cherry'] ['apple', 'banana', 'cherry']\n"
     ]
    }
   ],
   "source": [
    "fruit  = [\"apple\", \"banana\", \"cherry\"]\n",
    "new_data = fruit.copy()\n",
    "print(fruit,new_data)"
   ]
  },
  {
   "cell_type": "code",
   "execution_count": 71,
   "id": "dac1bc86",
   "metadata": {},
   "outputs": [
    {
     "name": "stdout",
     "output_type": "stream",
     "text": [
      "apple\n",
      "banana\n",
      "cherry\n"
     ]
    }
   ],
   "source": [
    "fruit = [\"apple\", \"banana\", \"cherry\"]\n",
    "for i in fruit:\n",
    "    print(i)"
   ]
  },
  {
   "cell_type": "code",
   "execution_count": 76,
   "id": "02326631",
   "metadata": {},
   "outputs": [
    {
     "name": "stdout",
     "output_type": "stream",
     "text": [
      "0 apple\n",
      "1 banana\n",
      "2 cherry\n",
      "--------------------\n",
      "1 apple\n",
      "2 banana\n",
      "3 cherry\n"
     ]
    }
   ],
   "source": [
    "'''function adds a counter (index) to an iterable like a list, tuple, or string — and returns it as an enumerate object. \n",
    "It's often used in loops when you need both the index and the value. iterable: The list (or any iterable) you want to loop over.'''\n",
    "for index,value in enumerate(fruit):\n",
    "    print(index,value)\n",
    "print(\"-\"*20)\n",
    "for index,value in enumerate(fruit,start=1):\n",
    "    print(index,value)"
   ]
  },
  {
   "cell_type": "code",
   "execution_count": null,
   "id": "6a30e9e5",
   "metadata": {},
   "outputs": [
    {
     "name": "stdout",
     "output_type": "stream",
     "text": [
      "[0, 1, 4, 9, 16, 25, 36, 49, 64, 81]\n",
      "--------------------\n",
      "[0, 1, 4, 9, 16, 25, 36, 49, 64, 81]\n",
      "--------------------\n",
      "[25]\n",
      "[0, 1, 4, 9, 16, 3125, 36, 49, 64, 81]\n",
      "[[0, 1, 2], [0, 1, 2], [0, 1, 2]]\n",
      "[(0, 0), (0, 1), (0, 2), (1, 0), (1, 1), (1, 2), (2, 0), (2, 1), (2, 2)]\n",
      "[5, 6, 6]\n"
     ]
    }
   ],
   "source": [
    "number = []\n",
    "for i in range(10):\n",
    "    number.append(i**2)\n",
    "print(number)\n",
    "\n",
    "print(\"-\"*20)\n",
    "# we can do in one line using list comprehension\n",
    "number = []\n",
    "number = [i**2 for i in range(10)]\n",
    "# [expression for item in list]\n",
    "# [output for input in list]\n",
    "print(number)\n",
    "\n",
    "print(\"-\"*20)\n",
    "# with condtions\n",
    "number = []\n",
    "number = [i**2 for i in range(10) if i==5 ]\n",
    "# [output for input in list condition] for just one condtions\n",
    "print(number)\n",
    "\n",
    "number = []\n",
    "number = [i**5 if i == 5 else i**2 for i in range(10)]\n",
    "#[ output if condition else output for input in list condition]\n",
    "print(number)\n",
    "\n",
    "# nested list comprehension \n",
    "\n",
    "number = []\n",
    "number = [[i for i in range(3)] for j in range(3)]\n",
    "# [[output for input in list] for input in list]\n",
    "print(number)\n",
    "\n",
    "number = []\n",
    "number = [(i,j) for i in range(3) for j in range(3)]\n",
    "# [output i,j for input in list for input in list]\n",
    "print(number)\n",
    "\n",
    "# list comprehension with function\n",
    "fruit = [\"apple\", \"banana\", \"cherry\"]\n",
    "words_count = [len(word) for word in fruit]\n",
    "print(words_count)  \n"
   ]
  },
  {
   "cell_type": "code",
   "execution_count": null,
   "id": "260685fe",
   "metadata": {},
   "outputs": [],
   "source": []
  },
  {
   "cell_type": "code",
   "execution_count": null,
   "id": "34270e0f",
   "metadata": {},
   "outputs": [],
   "source": []
  }
 ],
 "metadata": {
  "kernelspec": {
   "display_name": "Python 3",
   "language": "python",
   "name": "python3"
  },
  "language_info": {
   "codemirror_mode": {
    "name": "ipython",
    "version": 3
   },
   "file_extension": ".py",
   "mimetype": "text/x-python",
   "name": "python",
   "nbconvert_exporter": "python",
   "pygments_lexer": "ipython3",
   "version": "3.12.9"
  }
 },
 "nbformat": 4,
 "nbformat_minor": 5
}
