{
 "cells": [
  {
   "cell_type": "code",
   "execution_count": 2,
   "id": "1029d984",
   "metadata": {},
   "outputs": [
    {
     "name": "stdout",
     "output_type": "stream",
     "text": [
      "('hello', 2, 4, 2)\n"
     ]
    }
   ],
   "source": [
    "data = (\"hello\",2,4,2)\n",
    "print(data)"
   ]
  },
  {
   "cell_type": "code",
   "execution_count": 4,
   "id": "5f11bbc4",
   "metadata": {},
   "outputs": [
    {
     "name": "stdout",
     "output_type": "stream",
     "text": [
      "('1212', 1, 2, 3, 4)\n"
     ]
    }
   ],
   "source": [
    "l1 = [\"1212\",1,2,3,4]\n",
    "t1 = tuple(l1)\n",
    "print(t1)"
   ]
  },
  {
   "cell_type": "code",
   "execution_count": null,
   "id": "fa6207b6",
   "metadata": {},
   "outputs": [
    {
     "name": "stdout",
     "output_type": "stream",
     "text": [
      "('hello', 2, 4, 2)\n",
      "hello\n"
     ]
    },
    {
     "ename": "TypeError",
     "evalue": "'tuple' object does not support item assignment",
     "output_type": "error",
     "traceback": [
      "\u001b[0;31m---------------------------------------------------------------------------\u001b[0m",
      "\u001b[0;31mTypeError\u001b[0m                                 Traceback (most recent call last)",
      "Cell \u001b[0;32mIn[6], line 4\u001b[0m\n\u001b[1;32m      2\u001b[0m \u001b[38;5;28mprint\u001b[39m(data)\n\u001b[1;32m      3\u001b[0m \u001b[38;5;28mprint\u001b[39m(data[\u001b[38;5;241m0\u001b[39m])\n\u001b[0;32m----> 4\u001b[0m data[\u001b[38;5;241m0\u001b[39m] \u001b[38;5;241m=\u001b[39m \u001b[38;5;124m\"\u001b[39m\u001b[38;5;124mnew\u001b[39m\u001b[38;5;124m\"\u001b[39m\n",
      "\u001b[0;31mTypeError\u001b[0m: 'tuple' object does not support item assignment"
     ]
    }
   ],
   "source": [
    "data = (\"hello\",2,4,2)\n",
    "print(data)\n",
    "print(data[0])\n",
    "data[0] = \"new\" # immutable"
   ]
  },
  {
   "cell_type": "code",
   "execution_count": null,
   "id": "45ea1459",
   "metadata": {},
   "outputs": [
    {
     "name": "stdout",
     "output_type": "stream",
     "text": [
      "1\n",
      "2\n",
      "0\n",
      "--------------------\n",
      "2\n",
      "0\n",
      "0\n"
     ]
    }
   ],
   "source": [
    "data = (\"hello\",2,4,2)\n",
    "print(data.count(4))\n",
    "print(data.count(2))\n",
    "print(data.count(92)) # if value not present it wil give 0\n",
    "\n",
    "print('-'*20)\n",
    "print(data.index(4))\n",
    "print(data.index(\"hello\"))\n",
    "print(data.count(92))# if value not present it wil give 0\n"
   ]
  },
  {
   "cell_type": "code",
   "execution_count": 24,
   "id": "f6e674f2",
   "metadata": {},
   "outputs": [
    {
     "name": "stdout",
     "output_type": "stream",
     "text": [
      "('hello', 2, 4, 2)\n",
      "--------------------\n",
      "hello 2 4 2\n",
      "--------------------\n",
      "--------------------\n",
      "hello [2, 4, 2]\n"
     ]
    }
   ],
   "source": [
    "#packed and unpacked tuple\n",
    "\n",
    "new_data = \"hello\",2,4,2\n",
    "print(new_data)\n",
    "print('-'*20)\n",
    "a,b,c,d = new_data\n",
    "print(a,b,c,d)\n",
    "print('-'*20)\n",
    "# a,b = new_data\n",
    "# print(a,b) # it will error\n",
    "print('-'*20)\n",
    "a,*b = new_data\n",
    "print(a,b)\n",
    "\n"
   ]
  },
  {
   "cell_type": "code",
   "execution_count": 28,
   "id": "75cac6cc",
   "metadata": {},
   "outputs": [
    {
     "name": "stdout",
     "output_type": "stream",
     "text": [
      "((1, 2, 3), (4, 5, 6), (7, 8, 9))\n",
      "--------------------\n",
      "(1, 2, 3)\n",
      "--------------------\n",
      "3\n"
     ]
    }
   ],
   "source": [
    "# nested tuple\n",
    "\n",
    "nested_tuple= ((1,2,3),(4,5,6),(7,8,9))\n",
    "print(nested_tuple)\n",
    "print('-'*20)\n",
    "print(nested_tuple[0])\n",
    "print('-'*20)\n",
    "print(nested_tuple[0][2])"
   ]
  },
  {
   "cell_type": "code",
   "execution_count": 34,
   "id": "018cb3e9",
   "metadata": {},
   "outputs": [
    {
     "name": "stdout",
     "output_type": "stream",
     "text": [
      "1 2 3 \n",
      "4 5 6 \n",
      "7 8 9 \n"
     ]
    }
   ],
   "source": [
    "for i in nested_tuple:\n",
    "    # print(i)\n",
    "    for j in i:\n",
    "        print(j,end=\" \")\n",
    "    print()"
   ]
  }
 ],
 "metadata": {
  "kernelspec": {
   "display_name": "Python 3",
   "language": "python",
   "name": "python3"
  },
  "language_info": {
   "codemirror_mode": {
    "name": "ipython",
    "version": 3
   },
   "file_extension": ".py",
   "mimetype": "text/x-python",
   "name": "python",
   "nbconvert_exporter": "python",
   "pygments_lexer": "ipython3",
   "version": "3.12.9"
  }
 },
 "nbformat": 4,
 "nbformat_minor": 5
}
