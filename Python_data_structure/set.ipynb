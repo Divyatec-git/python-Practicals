{
 "cells": [
  {
   "cell_type": "code",
   "execution_count": 3,
   "id": "c410625d",
   "metadata": {},
   "outputs": [
    {
     "name": "stdout",
     "output_type": "stream",
     "text": [
      "{1, 2, 3, 4, 5}\n"
     ]
    }
   ],
   "source": [
    "set_data = set([1,2,3,4,5,3,2])\n",
    "print(set_data)"
   ]
  },
  {
   "cell_type": "code",
   "execution_count": null,
   "id": "0a0b800b",
   "metadata": {},
   "outputs": [
    {
     "name": "stdout",
     "output_type": "stream",
     "text": [
      "set()\n",
      "{1}\n"
     ]
    }
   ],
   "source": [
    "set_data = set()\n",
    "print(set_data)\n",
    "set_data.add(1)\n",
    "set_data.add(1)\n",
    "print(set_data)"
   ]
  },
  {
   "cell_type": "code",
   "execution_count": 18,
   "id": "b3031ce7",
   "metadata": {},
   "outputs": [
    {
     "name": "stdout",
     "output_type": "stream",
     "text": [
      "{1, 2, 3, 4, 5}\n",
      "--------------------\n",
      "{2, 3, 4, 5} with remove\n",
      "--------------------\n",
      "{2, 3, 4, 5} with discard\n",
      "--------------------\n",
      "{2, 3, 4, 5} with discard value which in not in set\n"
     ]
    }
   ],
   "source": [
    "set_data = set([1,2,3,4,5,3,2])\n",
    "print(set_data)\n",
    "print('--'*10)\n",
    "set_data.remove(1)\n",
    "# set_data.remove(10) # get error value not present in set\n",
    "print(set_data,\"with remove\")\n",
    "\n",
    "print('--'*10)\n",
    "set_data.discard(1)\n",
    "print(set_data,\"with discard\")\n",
    "print('--'*10)\n",
    "set_data.discard(10) # it will not get eror if value not present in set\n",
    "print(set_data,\"with discard value which in not in set\")"
   ]
  },
  {
   "cell_type": "code",
   "execution_count": null,
   "id": "a9947e4d",
   "metadata": {},
   "outputs": [
    {
     "name": "stdout",
     "output_type": "stream",
     "text": [
      "{1, 2, 3, 4, 5}\n",
      "--------------------\n",
      "{2, 3, 4, 5} with pop\n",
      "set() with clear\n",
      "--------------------\n"
     ]
    }
   ],
   "source": [
    "set_data = set([1,2,3,4,5,3,2])\n",
    "print(set_data)\n",
    "print('--'*10)\n",
    "set_data.pop() # FIFO\n",
    "print(set_data,\"with pop\")\n",
    "\n",
    "set_data.clear()\n",
    "print(set_data,\"with clear\")\n",
    "print('--'*10)\n",
    "\n"
   ]
  },
  {
   "cell_type": "code",
   "execution_count": null,
   "id": "939158bb",
   "metadata": {},
   "outputs": [],
   "source": []
  }
 ],
 "metadata": {
  "kernelspec": {
   "display_name": "Python 3",
   "language": "python",
   "name": "python3"
  },
  "language_info": {
   "codemirror_mode": {
    "name": "ipython",
    "version": 3
   },
   "file_extension": ".py",
   "mimetype": "text/x-python",
   "name": "python",
   "nbconvert_exporter": "python",
   "pygments_lexer": "ipython3",
   "version": "3.12.9"
  }
 },
 "nbformat": 4,
 "nbformat_minor": 5
}
