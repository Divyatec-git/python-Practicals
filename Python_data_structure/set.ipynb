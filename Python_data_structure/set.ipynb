{
 "cells": [
  {
   "cell_type": "code",
   "execution_count": 3,
   "id": "c410625d",
   "metadata": {},
   "outputs": [
    {
     "name": "stdout",
     "output_type": "stream",
     "text": [
      "{1, 2, 3, 4, 5}\n"
     ]
    }
   ],
   "source": [
    "set_data = set([1,2,3,4,5,3,2])\n",
    "print(set_data)"
   ]
  },
  {
   "cell_type": "code",
   "execution_count": null,
   "id": "0a0b800b",
   "metadata": {},
   "outputs": [
    {
     "name": "stdout",
     "output_type": "stream",
     "text": [
      "set()\n",
      "{1}\n"
     ]
    }
   ],
   "source": [
    "set_data = set()\n",
    "print(set_data)\n",
    "set_data.add(1)\n",
    "set_data.add(1)\n",
    "print(set_data)"
   ]
  },
  {
   "cell_type": "code",
   "execution_count": 18,
   "id": "b3031ce7",
   "metadata": {},
   "outputs": [
    {
     "name": "stdout",
     "output_type": "stream",
     "text": [
      "{1, 2, 3, 4, 5}\n",
      "--------------------\n",
      "{2, 3, 4, 5} with remove\n",
      "--------------------\n",
      "{2, 3, 4, 5} with discard\n",
      "--------------------\n",
      "{2, 3, 4, 5} with discard value which in not in set\n"
     ]
    }
   ],
   "source": [
    "set_data = set([1,2,3,4,5,3,2])\n",
    "print(set_data)\n",
    "print('--'*10)\n",
    "set_data.remove(1)\n",
    "# set_data.remove(10) # get error value not present in set\n",
    "print(set_data,\"with remove\")\n",
    "\n",
    "print('--'*10)\n",
    "set_data.discard(1)\n",
    "print(set_data,\"with discard\")\n",
    "print('--'*10)\n",
    "set_data.discard(10) # it will not get eror if value not present in set\n",
    "print(set_data,\"with discard value which in not in set\")"
   ]
  },
  {
   "cell_type": "code",
   "execution_count": null,
   "id": "a9947e4d",
   "metadata": {},
   "outputs": [
    {
     "name": "stdout",
     "output_type": "stream",
     "text": [
      "{1, 2, 3, 4, 5}\n",
      "--------------------\n",
      "{2, 3, 4, 5} with pop\n",
      "set() with clear\n",
      "--------------------\n"
     ]
    }
   ],
   "source": [
    "set_data = set([1,2,3,4,5,3,2])\n",
    "print(set_data)\n",
    "print('--'*10)\n",
    "set_data.pop() # FIFO\n",
    "print(set_data,\"with pop\")\n",
    "\n",
    "set_data.clear()\n",
    "print(set_data,\"with clear\")\n",
    "print('--'*10)\n",
    "\n"
   ]
  },
  {
   "cell_type": "code",
   "execution_count": 1,
   "id": "939158bb",
   "metadata": {},
   "outputs": [
    {
     "name": "stdout",
     "output_type": "stream",
     "text": [
      "{0, 1, 2, 3, 4, 5, 6, 8}\n"
     ]
    }
   ],
   "source": [
    "set1 = {1,2,3,8}\n",
    "set2 = {4,5,6,0}\n",
    "\n",
    "set3 = set1.union(set2) # merge  in sorting\n",
    "print(set3)"
   ]
  },
  {
   "cell_type": "code",
   "execution_count": null,
   "id": "7962a99e",
   "metadata": {},
   "outputs": [],
   "source": [
    "set1 = {1,2,3}\n",
    "set2 = {4,5,6,3}\n",
    "set3 = set1.intersection(set2) # retrun common  in sorting\n",
    "print(set3)"
   ]
  },
  {
   "cell_type": "code",
   "execution_count": null,
   "id": "192e6867",
   "metadata": {},
   "outputs": [],
   "source": [
    "set1 = {1,2,3,5,4}\n",
    "set2 = {4,5,6}\n",
    "set1.intersection_update(set2) # retrun common elements and updte in set1  in sorting\n",
    "print(set1)"
   ]
  },
  {
   "cell_type": "code",
   "execution_count": null,
   "id": "8581315e",
   "metadata": {},
   "outputs": [],
   "source": [
    "set1 = {1,2,3,5,4,8}\n",
    "set2 = {4,5,6}\n",
    "set3 = set1.difference(set2) \n",
    "print(set3)"
   ]
  },
  {
   "cell_type": "code",
   "execution_count": null,
   "id": "4de35753",
   "metadata": {},
   "outputs": [],
   "source": [
    "set1 = {1,2,3,5,4,8}\n",
    "set2 = {4,5,6}\n",
    "set1.difference_update(set2) \n",
    "print(set1)"
   ]
  },
  {
   "cell_type": "code",
   "execution_count": null,
   "id": "e88e1a8d",
   "metadata": {},
   "outputs": [],
   "source": [
    "#symmetric_difference() or ^ - Returns a set with elements in either set, but not in both.\n",
    "#Find unique items between two people.\n",
    "a = {\"Alice\", \"Bob\"}\n",
    "b = {\"Bob\", \"Charlie\"}\n",
    "print(a.symmetric_difference(b))  # {'Alice', 'Charlie'}"
   ]
  },
  {
   "cell_type": "code",
   "execution_count": null,
   "id": "6775f366",
   "metadata": {},
   "outputs": [],
   "source": [
    "#issubset() - Checks if all elements of the set are in another set.\n",
    "a = {\"Alice\", \"Bob\"}\n",
    "b = {\"Bob\", \"Charlie\"}\n",
    "print(a.issubset(b))  # False\n",
    "\n",
    "#issuperset() - Checks if the set contains all elements of another set\n",
    "print(b.issubset(a))  # True"
   ]
  },
  {
   "cell_type": "code",
   "execution_count": null,
   "id": "f73a0db8",
   "metadata": {},
   "outputs": [],
   "source": [
    "#issubset() - Checks if all elements of the set are in another set.\n",
    "a = {\"Alice\", \"Bob\", \"Charlie\"}\n",
    "b = {\"Bob\", \"Charlie\"}\n",
    "print(a.issubset(b))  # False\n",
    "\n",
    "#issuperset() - Checks if the set contains all elements of another set\n",
    "print(b.issubset(a))  # True"
   ]
  },
  {
   "cell_type": "code",
   "execution_count": null,
   "id": "bcbb580b",
   "metadata": {},
   "outputs": [],
   "source": [
    "#issubset() - Checks if all elements of the set are in another set.\n",
    "a = {\"Alice\", \"Bob\"}\n",
    "b = {\"Bob\", \"Charlie\",\"Alice\"}\n",
    "print(a.issubset(b))  # False\n",
    "\n",
    "#issuperset() - Checks if the set contains all elements of another set\n",
    "print(b.issubset(a))  # True"
   ]
  }
 ],
 "metadata": {
  "kernelspec": {
   "display_name": "Python 3",
   "language": "python",
   "name": "python3"
  },
  "language_info": {
   "codemirror_mode": {
    "name": "ipython",
    "version": 3
   },
   "file_extension": ".py",
   "mimetype": "text/x-python",
   "name": "python",
   "nbconvert_exporter": "python",
   "pygments_lexer": "ipython3",
   "version": "3.12.9"
  }
 },
 "nbformat": 4,
 "nbformat_minor": 5
}
