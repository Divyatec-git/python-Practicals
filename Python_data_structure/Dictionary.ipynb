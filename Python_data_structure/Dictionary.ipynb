{
 "cells": [
  {
   "cell_type": "code",
   "execution_count": 12,
   "id": "eb1ec574",
   "metadata": {},
   "outputs": [
    {
     "name": "stdout",
     "output_type": "stream",
     "text": [
      "{'name': 'mark', 'age': 20, 'gender': 'male'}\n"
     ]
    }
   ],
   "source": [
    "students  = {\n",
    "    \"name\":\"mark\",\"age\":20,\"gender\":\"male\"\n",
    "}\n",
    "print(students)"
   ]
  },
  {
   "cell_type": "code",
   "execution_count": 3,
   "id": "18419111",
   "metadata": {},
   "outputs": [
    {
     "name": "stdout",
     "output_type": "stream",
     "text": [
      "dict_keys(['name', 'age', 'gender'])\n"
     ]
    }
   ],
   "source": [
    "print(students.keys())"
   ]
  },
  {
   "cell_type": "code",
   "execution_count": 4,
   "id": "92686834",
   "metadata": {},
   "outputs": [
    {
     "data": {
      "text/plain": [
       "dict_values(['mark', 20, 'male'])"
      ]
     },
     "execution_count": 4,
     "metadata": {},
     "output_type": "execute_result"
    }
   ],
   "source": [
    "students.values()"
   ]
  },
  {
   "cell_type": "code",
   "execution_count": 5,
   "id": "adfc462d",
   "metadata": {},
   "outputs": [
    {
     "data": {
      "text/plain": [
       "dict_items([('name', 'mark'), ('age', 20), ('gender', 'male')])"
      ]
     },
     "execution_count": 5,
     "metadata": {},
     "output_type": "execute_result"
    }
   ],
   "source": [
    "students.items()"
   ]
  },
  {
   "cell_type": "code",
   "execution_count": 17,
   "id": "07296105",
   "metadata": {},
   "outputs": [
    {
     "name": "stdout",
     "output_type": "stream",
     "text": [
      "{'name': 'mark', 'age': 20, 'gender': 'male'}\n",
      "--------------------\n",
      "{'name': 'john', 'age': 20, 'gender': 'male'}\n",
      "{'name': 'mark', 'age': 20, 'gender': 'male'}\n"
     ]
    }
   ],
   "source": [
    "students  = {\n",
    "    \"name\":\"mark\",\"age\":20,\"gender\":\"male\"\n",
    "}\n",
    "student_clone = students.copy()\n",
    "print(student_clone)\n",
    "print(\"-\"*20)\n",
    "students[\"name\"] = \"john\"\n",
    "print(students)\n",
    "print(student_clone)"
   ]
  },
  {
   "cell_type": "code",
   "execution_count": 23,
   "id": "487e5f80",
   "metadata": {},
   "outputs": [
    {
     "name": "stdout",
     "output_type": "stream",
     "text": [
      "john\n",
      "None names not avaiablbe so give it None\n",
      "N/A\n"
     ]
    }
   ],
   "source": [
    "print(students.get(\"name\"))\n",
    "print(students.get(\"names\"),\"names not avaiablbe so give it None\")\n",
    "\n",
    "print(students.get('names',\"N/A\")) # here when name is not avaiable we can give default value"
   ]
  },
  {
   "cell_type": "code",
   "execution_count": 24,
   "id": "15aea6fd",
   "metadata": {},
   "outputs": [
    {
     "name": "stdout",
     "output_type": "stream",
     "text": [
      "name\n",
      "age\n",
      "gender\n"
     ]
    }
   ],
   "source": [
    "for i in students.keys():\n",
    "    print(i)"
   ]
  },
  {
   "cell_type": "code",
   "execution_count": null,
   "id": "b9973274",
   "metadata": {},
   "outputs": [
    {
     "name": "stdout",
     "output_type": "stream",
     "text": [
      "john\n",
      "20\n",
      "male\n"
     ]
    }
   ],
   "source": [
    "for i in students.values():\n",
    "    \n",
    "    print(i)"
   ]
  },
  {
   "cell_type": "code",
   "execution_count": null,
   "id": "9198503b",
   "metadata": {},
   "outputs": [
    {
     "name": "stdout",
     "output_type": "stream",
     "text": [
      "('name', 'john')\n",
      "('age', 20)\n",
      "('gender', 'male')\n"
     ]
    }
   ],
   "source": [
    "for i in students.items():\n",
    "    print(i)\n",
    "    \n"
   ]
  },
  {
   "cell_type": "code",
   "execution_count": null,
   "id": "96a914ee",
   "metadata": {},
   "outputs": [
    {
     "name": "stdout",
     "output_type": "stream",
     "text": [
      "[50, 80, 44, 86] <class 'list'>\n",
      "[44, 50, 80, 86]\n"
     ]
    }
   ],
   "source": [
    "\n",
    "students_data = [{\n",
    "        \"name\": \"Divya\",\n",
    "        \"score\": 50,\n",
    "    },\n",
    "    {\n",
    "        \"name\": \"Mantras\",\n",
    "        \"score\": 80\n",
    "    },\n",
    "    {\n",
    "        \"name\": \"john\",\n",
    "        \"score\": 44\n",
    "    },\n",
    "     {\n",
    "        \"name\": \"mark\",\n",
    "        \"score\": 86\n",
    "    }\n",
    "]\n",
    "scores = []\n",
    "for i in students_data:\n",
    "    if \"score\" in i:\n",
    "        scores.append(i[\"score\"])\n",
    "print(scores,type(scores))\n",
    "scores.sort()\n",
    "print(scores)"
   ]
  },
  {
   "cell_type": "code",
   "execution_count": null,
   "id": "32d800d8",
   "metadata": {},
   "outputs": [],
   "source": []
  }
 ],
 "metadata": {
  "kernelspec": {
   "display_name": "Python 3",
   "language": "python",
   "name": "python3"
  },
  "language_info": {
   "codemirror_mode": {
    "name": "ipython",
    "version": 3
   },
   "file_extension": ".py",
   "mimetype": "text/x-python",
   "name": "python",
   "nbconvert_exporter": "python",
   "pygments_lexer": "ipython3",
   "version": "3.12.9"
  }
 },
 "nbformat": 4,
 "nbformat_minor": 5
}
