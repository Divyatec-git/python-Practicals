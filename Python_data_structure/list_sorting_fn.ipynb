{
 "cells": [
  {
   "cell_type": "markdown",
   "id": "080149c6",
   "metadata": {},
   "source": [
    "###  1. Built-in Functions\n",
    "#### You can use built-in functions directly as key.\n",
    "\n"
   ]
  },
  {
   "cell_type": "markdown",
   "id": "7e5259a4",
   "metadata": {},
   "source": [
    " #### sorts by string length"
   ]
  },
  {
   "cell_type": "code",
   "execution_count": 1,
   "id": "2338d4fa",
   "metadata": {},
   "outputs": [
    {
     "name": "stdout",
     "output_type": "stream",
     "text": [
      "['pie', 'apple', 'banana', 'Washington']\n"
     ]
    }
   ],
   "source": [
    "words = [\"banana\", \"pie\", \"Washington\", \"apple\"]\n",
    "words.sort(key=len)  # sorts by string length\n",
    "print(words)\n"
   ]
  },
  {
   "cell_type": "markdown",
   "id": "27e316cb",
   "metadata": {},
   "source": [
    "#### Using str.lower to make case-insensitive sorting"
   ]
  },
  {
   "cell_type": "code",
   "execution_count": 8,
   "id": "3c3852da",
   "metadata": {},
   "outputs": [
    {
     "name": "stdout",
     "output_type": "stream",
     "text": [
      "['alice', 'Bob', 'john']\n",
      "['Bob', 'alice', 'john']\n"
     ]
    }
   ],
   "source": [
    "names = [\"john\", \"alice\", \"Bob\"]\n",
    "names.sort(key=str.lower)\n",
    "print(names)\n",
    "\n",
    "\n",
    "names1 = [\"john\", \"alice\", \"Bob\"]\n",
    "names1.sort()\n",
    "print(names1)"
   ]
  },
  {
   "cell_type": "markdown",
   "id": "a68a994f",
   "metadata": {},
   "source": [
    "###  Using itemgetter from operator module\n",
    "\n",
    "#### This is a nice alternative to lambda x: x['score']."
   ]
  },
  {
   "cell_type": "code",
   "execution_count": 9,
   "id": "93e82ad6",
   "metadata": {},
   "outputs": [
    {
     "name": "stdout",
     "output_type": "stream",
     "text": [
      "[{'name': 'mark', 'score': 86}, {'name': 'Mantras', 'score': 80}, {'name': 'Divya', 'score': 50}, {'name': 'john', 'score': 44}]\n"
     ]
    }
   ],
   "source": [
    "from operator import itemgetter\n",
    "\n",
    "students = [\n",
    "    {\"name\": \"Divya\", \"score\": 50},\n",
    "    {\"name\": \"Mantras\", \"score\": 80},\n",
    "    {\"name\": \"john\", \"score\": 44},\n",
    "    {\"name\": \"mark\", \"score\": 86}\n",
    "]\n",
    "\n",
    "students.sort(key=itemgetter('score'), reverse=True)\n",
    "print(students)\n"
   ]
  }
 ],
 "metadata": {
  "kernelspec": {
   "display_name": "Python 3",
   "language": "python",
   "name": "python3"
  },
  "language_info": {
   "codemirror_mode": {
    "name": "ipython",
    "version": 3
   },
   "file_extension": ".py",
   "mimetype": "text/x-python",
   "name": "python",
   "nbconvert_exporter": "python",
   "pygments_lexer": "ipython3",
   "version": "3.12.9"
  }
 },
 "nbformat": 4,
 "nbformat_minor": 5
}
