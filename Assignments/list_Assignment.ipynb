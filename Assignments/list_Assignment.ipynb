{
 "cells": [
  {
   "cell_type": "markdown",
   "id": "ea8bf270",
   "metadata": {},
   "source": [
    "#### Create a list of the first 20 positive integers. Print the list.\n"
   ]
  },
  {
   "cell_type": "code",
   "execution_count": 7,
   "id": "7172237c",
   "metadata": {},
   "outputs": [
    {
     "name": "stdout",
     "output_type": "stream",
     "text": [
      "[1, 2, 3, 4, 5, 6, 7, 8, 9, 10, 11, 12, 13, 14, 15, 16, 17, 18, 19, 20]\n"
     ]
    }
   ],
   "source": [
    "number = list(range(1,21))\n",
    "print(number)"
   ]
  },
  {
   "cell_type": "markdown",
   "id": "33c70c59",
   "metadata": {},
   "source": [
    "#### Print the first, middle, and last elements of the list created in Assignment 1.\n"
   ]
  },
  {
   "cell_type": "code",
   "execution_count": null,
   "id": "b24e7be9",
   "metadata": {},
   "outputs": [
    {
     "name": "stdout",
     "output_type": "stream",
     "text": [
      "1\n",
      "10 middle find using int 10\n",
      "20\n"
     ]
    }
   ],
   "source": [
    "first_number = number[0]\n",
    "last_number = number[-1]    \n",
    "middle_number = len(number)// 2  # length of number means 20 and 20/2 = 10 but it return in float so add // to get floor value\n",
    "middle_number2 = int(len(number)/ 2)\n",
    "print(first_number)\n",
    "print(\"using // find middle index\",middle_number, \"middle find using int\", middle_number2)\n",
    "print(last_number)\n",
    "\n"
   ]
  },
  {
   "cell_type": "markdown",
   "id": "43e2598f",
   "metadata": {},
   "source": [
    "#### Print the first five elements, the last five elements, and the elements from index 5 to 15 of the list created in Assignment 1.\n"
   ]
  },
  {
   "cell_type": "code",
   "execution_count": 18,
   "id": "f390a9a3",
   "metadata": {},
   "outputs": [
    {
     "name": "stdout",
     "output_type": "stream",
     "text": [
      "[1, 2, 3, 4, 5]\n",
      "[16, 17, 18, 19, 20]\n",
      "[5, 6, 7, 8, 9, 10, 11, 12, 13, 14, 15]\n"
     ]
    }
   ],
   "source": [
    "first_five = number[0:5]\n",
    "print(first_five)\n",
    "last_five = number[-5:]\n",
    "print(last_five)\n",
    "five_to_fifteen = number[4:15]\n",
    "print(five_to_fifteen)"
   ]
  },
  {
   "cell_type": "markdown",
   "id": "6ddf6b3b",
   "metadata": {},
   "source": [
    "#### Create a new list containing the squares of the first 10 positive integers using a list comprehension. Print the new list.\n"
   ]
  },
  {
   "cell_type": "code",
   "execution_count": 22,
   "id": "2eb54195",
   "metadata": {},
   "outputs": [
    {
     "name": "stdout",
     "output_type": "stream",
     "text": [
      "[1, 4, 9, 16, 25, 36, 49, 64, 81, 100]\n"
     ]
    }
   ],
   "source": [
    "squr_numbers = [i**2 for i in number if i <= 10]\n",
    "print(squr_numbers)"
   ]
  },
  {
   "cell_type": "markdown",
   "id": "a3d9637b",
   "metadata": {},
   "source": [
    "#### Create a new list containing only the even numbers from the list created in Assignment 1 using a list comprehension. Print the new list.\n"
   ]
  },
  {
   "cell_type": "code",
   "execution_count": null,
   "id": "43cc598c",
   "metadata": {},
   "outputs": [
    {
     "name": "stdout",
     "output_type": "stream",
     "text": [
      "[2, 4, 6, 8, 10, 12, 14, 16, 18, 20]\n"
     ]
    }
   ],
   "source": [
    "even_numbers = [i for i in number if i % 2 == 0]\n",
    "print(even_numbers)"
   ]
  },
  {
   "cell_type": "markdown",
   "id": "00092eb1",
   "metadata": {},
   "source": [
    "#### Create a list of random numbers and sort it in ascending and descending order. Remove the duplicates from the list and print the modified list.\n"
   ]
  },
  {
   "cell_type": "code",
   "execution_count": null,
   "id": "966f2e44",
   "metadata": {},
   "outputs": [
    {
     "name": "stdout",
     "output_type": "stream",
     "text": [
      "[70, 4, 20, 1, 5, 98, 54, 4, 20] main list\n",
      "[1, 4, 4, 5, 20, 20, 54, 70, 98] soretd number\n",
      "[98, 70, 54, 20, 20, 5, 4, 4, 1] reverse sorted number\n",
      "[1, 98, 4, 5, 70, 20, 54]\n"
     ]
    }
   ],
   "source": [
    "numbers = [70,4,20,1,5,98,54,4,20]\n",
    "print(numbers,\"main list\")\n",
    "numbers.sort()\n",
    "print(numbers,\"soretd number\")\n",
    "numbers.sort(reverse=True)\n",
    "print(numbers,\"reverse sorted number\")\n",
    "new_list = list(set(numbers)) # uing set we remove duplocat thne convert in lists\n",
    "print(new_list)"
   ]
  },
  {
   "cell_type": "markdown",
   "id": "a53b2ba1",
   "metadata": {},
   "source": [
    "#### Create a nested list representing a 3x3 matrix and print the matrix. Access and print the element at the second row and third column.\n"
   ]
  },
  {
   "cell_type": "code",
   "execution_count": 52,
   "id": "71ac237a",
   "metadata": {},
   "outputs": [
    {
     "name": "stdout",
     "output_type": "stream",
     "text": [
      "6\n"
     ]
    }
   ],
   "source": [
    "matrix = [\n",
    "    [1,2,3],\n",
    "    [4,5,6],\n",
    "    [7,8,9]\n",
    "]\n",
    "print(matrix[1][2])\n",
    "\n"
   ]
  },
  {
   "cell_type": "markdown",
   "id": "37ee4c61",
   "metadata": {},
   "source": [
    "#### \n",
    "Create a list of dictionaries where each dictionary represents a student with keys 'name' and 'score'. Sort the list of dictionaries by the 'score' in descending order and print the sorted list."
   ]
  },
  {
   "cell_type": "code",
   "execution_count": null,
   "id": "897f38fe",
   "metadata": {},
   "outputs": [
    {
     "name": "stdout",
     "output_type": "stream",
     "text": [
      "[{'name': 'Divya', 'score': 50}, {'name': 'Mantras', 'score': 80}, {'name': 'john', 'score': 44}, {'name': 'mark', 'score': 86}]\n"
     ]
    }
   ],
   "source": [
    "students = [{\n",
    "        \"name\": \"Divya\",\n",
    "        \"score\": 50,\n",
    "    },\n",
    "    {\n",
    "        \"name\": \"Mantras\",\n",
    "        \"score\": 80\n",
    "    },\n",
    "    {\n",
    "        \"name\": \"john\",\n",
    "        \"score\": 44\n",
    "    },\n",
    "     {\n",
    "        \"name\": \"mark\",\n",
    "        \"score\": 86\n",
    "    }\n",
    "]\n",
    "print(students)\n",
    "# scores = sture"
   ]
  },
  {
   "cell_type": "markdown",
   "id": "f3714ffc",
   "metadata": {},
   "source": [
    "#### Write a function that takes a 3x3 matrix (nested list) as input and returns its transpose. Print the original and transposed matrices.\n"
   ]
  },
  {
   "cell_type": "code",
   "execution_count": 75,
   "id": "79ceb09a",
   "metadata": {},
   "outputs": [
    {
     "name": "stdout",
     "output_type": "stream",
     "text": [
      "Original Matrix:\n",
      "[1, 2, 3]\n",
      "[4, 5, 6]\n",
      "[7, 8, 9]\n",
      "\n",
      "Transposed Matrix:\n",
      "[1, 4, 7]\n",
      "[2, 5, 8]\n",
      "[3, 6, 9]\n"
     ]
    }
   ],
   "source": [
    "def transpose_matrix(matrix):\n",
    "    # Use list comprehension to transpose rows and columns\n",
    "    return [[matrix[j][i] for j in range(3)] for i in range(3)]\n",
    "\n",
    "# Original 3x3 matrix\n",
    "original = [\n",
    "    [1, 2, 3],\n",
    "    [4, 5, 6],\n",
    "    [7, 8, 9]\n",
    "]\n",
    "\n",
    "# Get the transposed matrix\n",
    "transposed = transpose_matrix(original)\n",
    "\n",
    "# Print original matrix\n",
    "print(\"Original Matrix:\")\n",
    "for row in original:\n",
    "    print(row)\n",
    "\n",
    "# Print transposed matrix\n",
    "print(\"\\nTransposed Matrix:\")\n",
    "for row in transposed:\n",
    "    print(row)\n"
   ]
  },
  {
   "cell_type": "code",
   "execution_count": 80,
   "id": "69c2b98f",
   "metadata": {},
   "outputs": [
    {
     "name": "stdout",
     "output_type": "stream",
     "text": [
      "True\n",
      "False\n"
     ]
    }
   ],
   "source": [
    "l1 = {1,2,3}\n",
    "print(3 in l1)\n",
    "print(10 in l1)"
   ]
  },
  {
   "cell_type": "code",
   "execution_count": 83,
   "id": "6d773ab8",
   "metadata": {},
   "outputs": [
    {
     "name": "stdout",
     "output_type": "stream",
     "text": [
      "{0, 1, 2, 3, 4, 5, 6, 8}\n"
     ]
    }
   ],
   "source": [
    "set1 = {1,2,3,8}\n",
    "set2 = {4,5,6,0}\n",
    "\n",
    "set3 = set1.union(set2) # merge  in sorting\n",
    "print(set3)"
   ]
  },
  {
   "cell_type": "code",
   "execution_count": null,
   "id": "01973db8",
   "metadata": {},
   "outputs": [
    {
     "name": "stdout",
     "output_type": "stream",
     "text": [
      "{3}\n"
     ]
    }
   ],
   "source": [
    "set1 = {1,2,3}\n",
    "set2 = {4,5,6,3}\n",
    "set3 = set1.intersection(set2) # retrun common  in sorting\n",
    "print(set3)"
   ]
  },
  {
   "cell_type": "code",
   "execution_count": null,
   "id": "24837f46",
   "metadata": {},
   "outputs": [
    {
     "name": "stdout",
     "output_type": "stream",
     "text": [
      "{4, 5}\n"
     ]
    }
   ],
   "source": [
    "set1 = {1,2,3,5,4}\n",
    "set2 = {4,5,6}\n",
    "set1.intersection_update(set2) # retrun common elements and updte in set1  in sorting\n",
    "print(set1)"
   ]
  },
  {
   "cell_type": "code",
   "execution_count": 98,
   "id": "99d0611d",
   "metadata": {},
   "outputs": [
    {
     "name": "stdout",
     "output_type": "stream",
     "text": [
      "{8, 1, 2, 3}\n"
     ]
    }
   ],
   "source": [
    "set1 = {1,2,3,5,4,8}\n",
    "set2 = {4,5,6}\n",
    "set3 = set1.difference(set2) \n",
    "print(set3)"
   ]
  },
  {
   "cell_type": "code",
   "execution_count": 101,
   "id": "f0543a50",
   "metadata": {},
   "outputs": [
    {
     "name": "stdout",
     "output_type": "stream",
     "text": [
      "{1, 2, 3, 8}\n"
     ]
    }
   ],
   "source": [
    "set1 = {1,2,3,5,4,8}\n",
    "set2 = {4,5,6}\n",
    "set1.difference_update(set2) \n",
    "print(set1)"
   ]
  },
  {
   "cell_type": "code",
   "execution_count": 102,
   "id": "ec574f84",
   "metadata": {},
   "outputs": [
    {
     "name": "stdout",
     "output_type": "stream",
     "text": [
      "{'Charlie', 'Alice'}\n"
     ]
    }
   ],
   "source": [
    "#symmetric_difference() or ^ - Returns a set with elements in either set, but not in both.\n",
    "#Find unique items between two people.\n",
    "a = {\"Alice\", \"Bob\"}\n",
    "b = {\"Bob\", \"Charlie\"}\n",
    "print(a.symmetric_difference(b))  # {'Alice', 'Charlie'}"
   ]
  },
  {
   "cell_type": "code",
   "execution_count": 104,
   "id": "c8f25bc1",
   "metadata": {},
   "outputs": [
    {
     "name": "stdout",
     "output_type": "stream",
     "text": [
      "False\n",
      "False\n"
     ]
    }
   ],
   "source": [
    "#issubset() - Checks if all elements of the set are in another set.\n",
    "a = {\"Alice\", \"Bob\"}\n",
    "b = {\"Bob\", \"Charlie\"}\n",
    "print(a.issubset(b))  # False\n",
    "\n",
    "#issuperset() - Checks if the set contains all elements of another set\n",
    "print(b.issubset(a))  # True"
   ]
  },
  {
   "cell_type": "code",
   "execution_count": 105,
   "id": "42b14dbc",
   "metadata": {},
   "outputs": [
    {
     "name": "stdout",
     "output_type": "stream",
     "text": [
      "False\n",
      "True\n"
     ]
    }
   ],
   "source": [
    "#issubset() - Checks if all elements of the set are in another set.\n",
    "a = {\"Alice\", \"Bob\", \"Charlie\"}\n",
    "b = {\"Bob\", \"Charlie\"}\n",
    "print(a.issubset(b))  # False\n",
    "\n",
    "#issuperset() - Checks if the set contains all elements of another set\n",
    "print(b.issubset(a))  # True"
   ]
  },
  {
   "cell_type": "code",
   "execution_count": 109,
   "id": "7b0d3892",
   "metadata": {},
   "outputs": [
    {
     "name": "stdout",
     "output_type": "stream",
     "text": [
      "True\n",
      "False\n"
     ]
    }
   ],
   "source": [
    "#issubset() - Checks if all elements of the set are in another set.\n",
    "a = {\"Alice\", \"Bob\"}\n",
    "b = {\"Bob\", \"Charlie\",\"Alice\"}\n",
    "print(a.issubset(b))  # False\n",
    "\n",
    "#issuperset() - Checks if the set contains all elements of another set\n",
    "print(b.issubset(a))  # True"
   ]
  }
 ],
 "metadata": {
  "kernelspec": {
   "display_name": "Python 3",
   "language": "python",
   "name": "python3"
  },
  "language_info": {
   "codemirror_mode": {
    "name": "ipython",
    "version": 3
   },
   "file_extension": ".py",
   "mimetype": "text/x-python",
   "name": "python",
   "nbconvert_exporter": "python",
   "pygments_lexer": "ipython3",
   "version": "3.12.9"
  }
 },
 "nbformat": 4,
 "nbformat_minor": 5
}
