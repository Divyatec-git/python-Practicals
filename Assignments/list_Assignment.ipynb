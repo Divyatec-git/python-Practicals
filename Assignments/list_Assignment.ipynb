{
 "cells": [
  {
   "cell_type": "markdown",
   "id": "ea8bf270",
   "metadata": {},
   "source": [
    "#### Create a list of the first 20 positive integers. Print the list.\n"
   ]
  },
  {
   "cell_type": "code",
   "execution_count": 7,
   "id": "7172237c",
   "metadata": {},
   "outputs": [
    {
     "name": "stdout",
     "output_type": "stream",
     "text": [
      "[1, 2, 3, 4, 5, 6, 7, 8, 9, 10, 11, 12, 13, 14, 15, 16, 17, 18, 19, 20]\n"
     ]
    }
   ],
   "source": [
    "number = list(range(1,21))\n",
    "print(number)"
   ]
  },
  {
   "cell_type": "markdown",
   "id": "33c70c59",
   "metadata": {},
   "source": [
    "#### Print the first, middle, and last elements of the list created in Assignment 1.\n"
   ]
  },
  {
   "cell_type": "code",
   "execution_count": null,
   "id": "b24e7be9",
   "metadata": {},
   "outputs": [
    {
     "name": "stdout",
     "output_type": "stream",
     "text": [
      "1\n",
      "10 middle find using int 10\n",
      "20\n"
     ]
    }
   ],
   "source": [
    "first_number = number[0]\n",
    "last_number = number[-1]    \n",
    "middle_number = len(number)// 2  # length of number means 20 and 20/2 = 10 but it return in float so add // to get floor value\n",
    "middle_number2 = int(len(number)/ 2)\n",
    "print(first_number)\n",
    "print(\"using // find middle index\",middle_number, \"middle find using int\", middle_number2)\n",
    "print(last_number)\n",
    "\n"
   ]
  },
  {
   "cell_type": "markdown",
   "id": "43e2598f",
   "metadata": {},
   "source": [
    "#### Print the first five elements, the last five elements, and the elements from index 5 to 15 of the list created in Assignment 1.\n"
   ]
  },
  {
   "cell_type": "code",
   "execution_count": 18,
   "id": "f390a9a3",
   "metadata": {},
   "outputs": [
    {
     "name": "stdout",
     "output_type": "stream",
     "text": [
      "[1, 2, 3, 4, 5]\n",
      "[16, 17, 18, 19, 20]\n",
      "[5, 6, 7, 8, 9, 10, 11, 12, 13, 14, 15]\n"
     ]
    }
   ],
   "source": [
    "first_five = number[0:5]\n",
    "print(first_five)\n",
    "last_five = number[-5:]\n",
    "print(last_five)\n",
    "five_to_fifteen = number[4:15]\n",
    "print(five_to_fifteen)"
   ]
  },
  {
   "cell_type": "markdown",
   "id": "6ddf6b3b",
   "metadata": {},
   "source": [
    "#### Create a new list containing the squares of the first 10 positive integers using a list comprehension. Print the new list.\n"
   ]
  },
  {
   "cell_type": "code",
   "execution_count": 22,
   "id": "2eb54195",
   "metadata": {},
   "outputs": [
    {
     "name": "stdout",
     "output_type": "stream",
     "text": [
      "[1, 4, 9, 16, 25, 36, 49, 64, 81, 100]\n"
     ]
    }
   ],
   "source": [
    "squr_numbers = [i**2 for i in number if i <= 10]\n",
    "print(squr_numbers)"
   ]
  },
  {
   "cell_type": "markdown",
   "id": "a3d9637b",
   "metadata": {},
   "source": [
    "#### Create a new list containing only the even numbers from the list created in Assignment 1 using a list comprehension. Print the new list.\n"
   ]
  },
  {
   "cell_type": "code",
   "execution_count": null,
   "id": "43cc598c",
   "metadata": {},
   "outputs": [
    {
     "name": "stdout",
     "output_type": "stream",
     "text": [
      "[2, 4, 6, 8, 10, 12, 14, 16, 18, 20]\n"
     ]
    }
   ],
   "source": [
    "even_numbers = [i for i in number if i % 2 == 0]\n",
    "print(even_numbers)"
   ]
  },
  {
   "cell_type": "markdown",
   "id": "00092eb1",
   "metadata": {},
   "source": [
    "#### Create a list of random numbers and sort it in ascending and descending order. Remove the duplicates from the list and print the modified list.\n"
   ]
  },
  {
   "cell_type": "code",
   "execution_count": null,
   "id": "966f2e44",
   "metadata": {},
   "outputs": [
    {
     "name": "stdout",
     "output_type": "stream",
     "text": [
      "[70, 4, 20, 1, 5, 98, 54, 4, 20] main list\n",
      "[1, 4, 4, 5, 20, 20, 54, 70, 98] soretd number\n",
      "[98, 70, 54, 20, 20, 5, 4, 4, 1] reverse sorted number\n",
      "[1, 98, 4, 5, 70, 20, 54]\n"
     ]
    }
   ],
   "source": [
    "numbers = [70,4,20,1,5,98,54,4,20]\n",
    "print(numbers,\"main list\")\n",
    "numbers.sort()\n",
    "print(numbers,\"soretd number\")\n",
    "numbers.sort(reverse=True)\n",
    "print(numbers,\"reverse sorted number\")\n",
    "new_list = list(set(numbers)) # uing set we remove duplocat thne convert in lists\n",
    "print(new_list)"
   ]
  },
  {
   "cell_type": "markdown",
   "id": "a53b2ba1",
   "metadata": {},
   "source": [
    "#### Create a nested list representing a 3x3 matrix and print the matrix. Access and print the element at the second row and third column.\n"
   ]
  },
  {
   "cell_type": "code",
   "execution_count": 52,
   "id": "71ac237a",
   "metadata": {},
   "outputs": [
    {
     "name": "stdout",
     "output_type": "stream",
     "text": [
      "6\n"
     ]
    }
   ],
   "source": [
    "matrix = [\n",
    "    [1,2,3],\n",
    "    [4,5,6],\n",
    "    [7,8,9]\n",
    "]\n",
    "print(matrix[1][2])\n",
    "\n"
   ]
  },
  {
   "cell_type": "markdown",
   "id": "37ee4c61",
   "metadata": {},
   "source": [
    "#### \n",
    "Create a list of dictionaries where each dictionary represents a student with keys 'name' and 'score'. Sort the list of dictionaries by the 'score' in descending order and print the sorted list."
   ]
  },
  {
   "cell_type": "code",
   "execution_count": 10,
   "id": "897f38fe",
   "metadata": {},
   "outputs": [
    {
     "name": "stdout",
     "output_type": "stream",
     "text": [
      "[{'name': 'mark', 'score': 86}, {'name': 'Mantras', 'score': 80}, {'name': 'Divya', 'score': 50}, {'name': 'john', 'score': 44}]\n"
     ]
    }
   ],
   "source": [
    "\n",
    "students_data = [{\n",
    "        \"name\": \"Divya\",\n",
    "        \"score\": 50,\n",
    "    },\n",
    "    {\n",
    "        \"name\": \"Mantras\",\n",
    "        \"score\": 80\n",
    "    },\n",
    "    {\n",
    "        \"name\": \"john\",\n",
    "        \"score\": 44\n",
    "    },\n",
    "     {\n",
    "        \"name\": \"mark\",\n",
    "        \"score\": 86\n",
    "    }\n",
    "]\n",
    "\n",
    "def get_score(student):\n",
    "    return student[\"score\"]\n",
    "\n",
    "students_data.sort(key=get_score, reverse=True) # we can also use thi stype of sorting in list\n",
    "\n",
    "print(students_data)"
   ]
  },
  {
   "cell_type": "markdown",
   "id": "f3714ffc",
   "metadata": {},
   "source": [
    "#### Write a function that takes a 3x3 matrix (nested list) as input and returns its transpose. Print the original and transposed matrices.\n"
   ]
  },
  {
   "cell_type": "code",
   "execution_count": 75,
   "id": "79ceb09a",
   "metadata": {},
   "outputs": [
    {
     "name": "stdout",
     "output_type": "stream",
     "text": [
      "Original Matrix:\n",
      "[1, 2, 3]\n",
      "[4, 5, 6]\n",
      "[7, 8, 9]\n",
      "\n",
      "Transposed Matrix:\n",
      "[1, 4, 7]\n",
      "[2, 5, 8]\n",
      "[3, 6, 9]\n"
     ]
    }
   ],
   "source": [
    "def transpose_matrix(matrix):\n",
    "    # Use list comprehension to transpose rows and columns\n",
    "    return [[matrix[j][i] for j in range(3)] for i in range(3)]\n",
    "\n",
    "# Original 3x3 matrix\n",
    "original = [\n",
    "    [1, 2, 3],\n",
    "    [4, 5, 6],\n",
    "    [7, 8, 9]\n",
    "]\n",
    "\n",
    "# Get the transposed matrix\n",
    "transposed = transpose_matrix(original)\n",
    "\n",
    "# Print original matrix\n",
    "print(\"Original Matrix:\")\n",
    "for row in original:\n",
    "    print(row)\n",
    "\n",
    "# Print transposed matrix\n",
    "print(\"\\nTransposed Matrix:\")\n",
    "for row in transposed:\n",
    "    print(row)\n"
   ]
  },
  {
   "cell_type": "code",
   "execution_count": 80,
   "id": "69c2b98f",
   "metadata": {},
   "outputs": [
    {
     "name": "stdout",
     "output_type": "stream",
     "text": [
      "True\n",
      "False\n"
     ]
    }
   ],
   "source": [
    "l1 = {1,2,3}\n",
    "print(3 in l1)\n",
    "print(10 in l1)"
   ]
  },
  {
   "cell_type": "markdown",
   "id": "2e4ac494",
   "metadata": {},
   "source": [
    "#### Write a function that takes a nested list and flattens it into a single list. Print the original and flattened lists."
   ]
  },
  {
   "cell_type": "code",
   "execution_count": 7,
   "id": "14898b2c",
   "metadata": {},
   "outputs": [
    {
     "name": "stdout",
     "output_type": "stream",
     "text": [
      "[1, 2, 3, 4, 5, 6, 7, 8, 9]\n",
      "[1, 2, 3, 4, 5, 6, 7, 8, 9]\n"
     ]
    }
   ],
   "source": [
    "nested_list = [\n",
    "    [1, 2, 3],\n",
    "    [4, 5, 6],\n",
    "    [7, 8, 9]\n",
    "]\n",
    "new_list = []\n",
    "for row in nested_list:\n",
    "    for item in row:\n",
    "        new_list.append(item)\n",
    "\n",
    "flatten_list = [ j for i in nested_list for j in i]\n",
    "print(new_list)\n",
    "print(flatten_list)\n"
   ]
  },
  {
   "cell_type": "markdown",
   "id": "c0c73938",
   "metadata": {},
   "source": [
    "#### Create a list of the first 10 positive integers. Remove the elements at indices 2, 4, and 6, and insert the element '99' at index 5. Print the modified list."
   ]
  },
  {
   "cell_type": "code",
   "execution_count": 13,
   "id": "75ab5a58",
   "metadata": {},
   "outputs": [
    {
     "name": "stdout",
     "output_type": "stream",
     "text": [
      "Original list: [1, 2, 3, 4, 5, 6, 7, 8, 9, 10]\n",
      "new list: [1, 2, 4, 5, 6, 7, 8, 9, 10]\n",
      "new list: [1, 2, 5, 7, 8, 99, 9, 10]\n"
     ]
    }
   ],
   "source": [
    "l1 = list(range(1, 11))\n",
    "print(f\"Original list: {l1}\")\n",
    "del l1[6]\n",
    "del l1[4]\n",
    "del l1[2] # delete on desc order first other wise index will be chnage for 4 and 6 if we delete 2 first\n",
    "l1.insert(5, 99)\n",
    "print(f\"new list: {l1}\")"
   ]
  },
  {
   "cell_type": "markdown",
   "id": "ba4bc88e",
   "metadata": {},
   "source": [
    "#### Create two lists of the same length. Use the `zip` function to combine these lists into a list of tuples and print the result."
   ]
  },
  {
   "cell_type": "code",
   "execution_count": 18,
   "id": "36df6b43",
   "metadata": {},
   "outputs": [
    {
     "name": "stdout",
     "output_type": "stream",
     "text": [
      "[(1, 11), (2, 12), (3, 13), (4, 14), (5, 15), (6, 16), (7, 17), (8, 18), (9, 19), (10, 20)]\n",
      "[(1, 11), (2, 12), (3, 13), (4, 14), (5, 15), (6, 16), (7, 17), (8, 18), (9, 19), (10, 20)]\n"
     ]
    }
   ],
   "source": [
    "l1 = [1,2,3,4,5,6,7,8,9,10]\n",
    "l2 = [11,12,13,14,15,16,17,18,19,20]\n",
    "l3 = zip(l1, l2)\n",
    "print(list(l3))\n",
    "print(list(zip(l1, l2)))\n",
    "\n"
   ]
  },
  {
   "cell_type": "markdown",
   "id": "0aee6e3f",
   "metadata": {},
   "source": [
    "#### Write a function that takes a list and returns a new list with the elements in reverse order. Print the original and reversed lists."
   ]
  },
  {
   "cell_type": "code",
   "execution_count": 24,
   "id": "027f6004",
   "metadata": {},
   "outputs": [
    {
     "name": "stdout",
     "output_type": "stream",
     "text": [
      "[10, 9, 8, 7, 6, 5, 4, 3, 2, 1]\n"
     ]
    }
   ],
   "source": [
    "l1 = [1,2,3,4,5,6,7,8,9,10]\n",
    "reversed = l1[::-1]\n",
    "print(reversed)  \n",
    "\n",
    "\n",
    "#start: where to begin (default is start of list)\n",
    "#stop: where to end (default is end of list)\n",
    "#step: how much to move (a negative step means go backwards)"
   ]
  },
  {
   "cell_type": "markdown",
   "id": "f3987b97",
   "metadata": {},
   "source": [
    "#### Write a function that rotates a list by n positions. Print the original and rotated lists."
   ]
  },
  {
   "cell_type": "code",
   "execution_count": 25,
   "id": "70c6034c",
   "metadata": {},
   "outputs": [
    {
     "name": "stdout",
     "output_type": "stream",
     "text": [
      "Original list: [1, 2, 3, 4, 5]\n",
      "Rotated list: [3, 4, 5, 1, 2]\n"
     ]
    }
   ],
   "source": [
    "\n",
    "#rotate_list(lst, n):\n",
    "#Takes a list lst and an integer n\n",
    "#Rotates the list left by n positions\n",
    "def rotate_list(lst, n):\n",
    "    return lst[n:] + lst[:n]\n",
    "    #lst[n:] + lst[:n] → [3, 4, 5] + [1, 2] → [3, 4, 5, 1, 2]\n",
    "\n",
    "\n",
    "original_list = [1, 2, 3, 4, 5]\n",
    "rotated_list = rotate_list(original_list, 2)\n",
    "print(f\"Original list: {original_list}\")\n",
    "print(f\"Rotated list: {rotated_list}\")"
   ]
  },
  {
   "cell_type": "markdown",
   "id": "5351e5b2",
   "metadata": {},
   "source": [
    "#### Write a function that takes two lists and returns a new list containing only the elements that are present in both lists. Print the intersected list."
   ]
  },
  {
   "cell_type": "code",
   "execution_count": 27,
   "id": "7e12437d",
   "metadata": {},
   "outputs": [
    {
     "name": "stdout",
     "output_type": "stream",
     "text": [
      "[2, 3, 4, 5]\n"
     ]
    }
   ],
   "source": [
    "l1 = [1,2,3,4,5,6,7,8,9,10]\n",
    "l2 = [11,5,13,14,15,16,17,18,19,89,90,2,3,4]\n",
    "\n",
    "common =[i for i in l1 if i in l2]\n",
    "print(common)"
   ]
  }
 ],
 "metadata": {
  "kernelspec": {
   "display_name": "base",
   "language": "python",
   "name": "python3"
  },
  "language_info": {
   "codemirror_mode": {
    "name": "ipython",
    "version": 3
   },
   "file_extension": ".py",
   "mimetype": "text/x-python",
   "name": "python",
   "nbconvert_exporter": "python",
   "pygments_lexer": "ipython3",
   "version": "3.12.7"
  }
 },
 "nbformat": 4,
 "nbformat_minor": 5
}
