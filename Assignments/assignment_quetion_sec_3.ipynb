{
 "cells": [
  {
   "cell_type": "markdown",
   "id": "6a998e90",
   "metadata": {},
   "source": [
    "#### Write a program that asks the user to input a number and prints whether the number is positive.\n"
   ]
  },
  {
   "cell_type": "code",
   "execution_count": 7,
   "id": "5f517afb",
   "metadata": {},
   "outputs": [
    {
     "name": "stdout",
     "output_type": "stream",
     "text": [
      "The number is positive\n"
     ]
    }
   ],
   "source": [
    "number = int(input(\"Enter a number: \"))\n",
    "if number > 0 :\n",
    "    print(\"The number is positive\")\n"
   ]
  },
  {
   "cell_type": "markdown",
   "id": "f7ca2e76",
   "metadata": {},
   "source": [
    "#### Write a program that asks the user to input a number and prints whether the number is positive, negative, or zero.\n"
   ]
  },
  {
   "cell_type": "code",
   "execution_count": 12,
   "id": "f7663497",
   "metadata": {},
   "outputs": [
    {
     "name": "stdout",
     "output_type": "stream",
     "text": [
      "The number is positive\n"
     ]
    }
   ],
   "source": [
    "number = int(input(\"Enter a number: \"))\n",
    "if number > 0 :\n",
    "    print(\"The number is positive\")\n",
    "elif number < 0 :\n",
    "    print(\"The number is negative\")\n",
    "else :\n",
    "    print(\"The number is zero\")"
   ]
  },
  {
   "cell_type": "markdown",
   "id": "f7111878",
   "metadata": {},
   "source": [
    "#### Write a program that asks the user to input a number and prints whether the number is positive and even, positive and odd, or negative.\n"
   ]
  },
  {
   "cell_type": "code",
   "execution_count": 23,
   "id": "dca30f16",
   "metadata": {},
   "outputs": [
    {
     "name": "stdout",
     "output_type": "stream",
     "text": [
      "The number is zero\n"
     ]
    }
   ],
   "source": [
    "number = int(input(\"Enter a number: \"))\n",
    "if number > 0 :\n",
    "    if number%2 == 0:\n",
    "        print(\"The number is positive and even\")\n",
    "    else:\n",
    "        print(\"The number is positive and odd\")\n",
    "elif number < 0:\n",
    "    if number %2 != 0 :\n",
    "        print(\"The number is negative and odd\")\n",
    "    else:\n",
    "        print(\"The number is negative and even\")\n",
    "else:\n",
    "    print(\"The number is zero\")\n"
   ]
  },
  {
   "cell_type": "markdown",
   "id": "9c72afbf",
   "metadata": {},
   "source": [
    "#### Write a program that prints all the numbers from 1 to 10 using a for loop.\n"
   ]
  },
  {
   "cell_type": "code",
   "execution_count": 25,
   "id": "2f50a820",
   "metadata": {},
   "outputs": [
    {
     "name": "stdout",
     "output_type": "stream",
     "text": [
      "number in loop 1\n",
      "number in loop 2\n",
      "number in loop 3\n",
      "number in loop 4\n",
      "number in loop 5\n",
      "number in loop 6\n",
      "number in loop 7\n",
      "number in loop 8\n",
      "number in loop 9\n",
      "number in loop 10\n"
     ]
    }
   ],
   "source": [
    "for i in range(1,11):\n",
    "    print(\"number in loop\", i)"
   ]
  },
  {
   "cell_type": "markdown",
   "id": "7029277f",
   "metadata": {},
   "source": [
    "### Write a program that prints all the numbers from 1 to 10 using a while loop.\n"
   ]
  },
  {
   "cell_type": "code",
   "execution_count": 38,
   "id": "25dabeb3",
   "metadata": {},
   "outputs": [
    {
     "name": "stdout",
     "output_type": "stream",
     "text": [
      "1\n",
      "2\n",
      "3\n",
      "4\n",
      "5\n",
      "6\n",
      "7\n",
      "8\n",
      "9\n",
      "10\n",
      "----------\n"
     ]
    }
   ],
   "source": [
    "num = 1\n",
    "while num < 11:\n",
    "    print(num)\n",
    "    num = num + 1\n",
    "    \n",
    "print(\"-\"*10)\n",
    "\n",
    "   "
   ]
  },
  {
   "cell_type": "markdown",
   "id": "15147949",
   "metadata": {},
   "source": [
    "#### Write a program that prints a 5x5 grid of asterisks (*) using nested loops.\n"
   ]
  },
  {
   "cell_type": "markdown",
   "id": "a9d12358",
   "metadata": {},
   "source": []
  },
  {
   "cell_type": "code",
   "execution_count": null,
   "id": "ec15f7c9",
   "metadata": {},
   "outputs": [
    {
     "name": "stdout",
     "output_type": "stream",
     "text": [
      "* * * * *\n",
      "* * * * *\n",
      "* * * * *\n",
      "* * * * *\n",
      "* * * * *\n"
     ]
    }
   ],
   "source": [
    "num = 5\n",
    "for i in range(5):\n",
    "    for i in range(4):\n",
    "        print('*',end=' ')\n",
    "    print(\"*\")\n",
    "    "
   ]
  },
  {
   "cell_type": "markdown",
   "id": "f5ac9214",
   "metadata": {},
   "source": [
    "#### Write a program that asks the user to input numbers until they input 0. The program should print the sum of all the input numbers.\n"
   ]
  },
  {
   "cell_type": "code",
   "execution_count": null,
   "id": "5bd1d9e9",
   "metadata": {},
   "outputs": [
    {
     "name": "stdout",
     "output_type": "stream",
     "text": [
      "1 number\n",
      "1 number\n",
      "2 number\n",
      "2 number\n",
      "3 number\n",
      "3 number\n",
      "4 number\n",
      "4 number\n",
      "5 number\n",
      "5 number\n",
      "final output 30\n",
      "You entered: 1\n",
      "You entered: 2\n",
      "You entered: 3\n",
      "You entered: 4\n",
      "You entered: 5\n",
      "You entered: 5\n",
      "Final total: 20\n"
     ]
    }
   ],
   "source": [
    "number = int(input(\"Enter a number:\"))\n",
    "temp = 0\n",
    "\n",
    "while number != 0:\n",
    "    print(number,\"number\")\n",
    "    temp += number\n",
    "    number = int(input(\"Enter a number:\"))\n",
    "    \n",
    "print(\"final output\",temp)\n",
    "    \n",
    "\n",
    "\n",
    "#another logic\n",
    "\n",
    "total = 0\n",
    "\n",
    "while True:\n",
    "    number1 = int(input(\"Enter a number: \"))\n",
    "    if number1 == 0:\n",
    "        break\n",
    "    print(\"You entered:\", number1)\n",
    "    total += number1\n",
    "\n",
    "print(\"Final total:\", total)\n"
   ]
  },
  {
   "cell_type": "markdown",
   "id": "6e04b21f",
   "metadata": {},
   "source": [
    "### Write a program that prints all the numbers from 1 to 10 except 5 using a for loop and continue statement.\n",
    "\n"
   ]
  },
  {
   "cell_type": "code",
   "execution_count": 79,
   "id": "7c6ec606",
   "metadata": {},
   "outputs": [
    {
     "name": "stdout",
     "output_type": "stream",
     "text": [
      "1\n",
      "2\n",
      "3\n",
      "4\n",
      "6\n",
      "7\n",
      "8\n",
      "9\n",
      "10\n"
     ]
    }
   ],
   "source": [
    "for i  in range(1,11):\n",
    "    if i == 5:\n",
    "        continue\n",
    "    print(i)"
   ]
  },
  {
   "cell_type": "markdown",
   "id": "1ca918e9",
   "metadata": {},
   "source": [
    "### Write a program that defines an empty function using the pass statement.\n"
   ]
  },
  {
   "cell_type": "code",
   "execution_count": 81,
   "id": "edf02f54",
   "metadata": {},
   "outputs": [
    {
     "name": "stdout",
     "output_type": "stream",
     "text": [
      "None\n"
     ]
    }
   ],
   "source": [
    "def empty_function():\n",
    "    pass\n",
    "\n",
    "print(empty_function())\n",
    "    "
   ]
  },
  {
   "cell_type": "markdown",
   "id": "a353a1e5",
   "metadata": {},
   "source": [
    "### Write a program that asks the user to input a number and prints all the even numbers from 1 to that number using a for loop.\n"
   ]
  },
  {
   "cell_type": "code",
   "execution_count": 87,
   "id": "b0b3fa03",
   "metadata": {},
   "outputs": [
    {
     "name": "stdout",
     "output_type": "stream",
     "text": [
      "The number is even 2\n",
      "The number is even 4\n",
      "The number is even 6\n",
      "The number is even 8\n",
      "The number is even 10\n"
     ]
    }
   ],
   "source": [
    "number = int(input(\"Enter a number: \"))\n",
    "\n",
    "for i in range(1,number+1):\n",
    "    if i % 2 == 0:\n",
    "        print(\"The number is even\",i)"
   ]
  },
  {
   "cell_type": "markdown",
   "id": "89002e30",
   "metadata": {},
   "source": [
    "### Write a program that calculates the factorial of a number input by the user using a while loop.\n"
   ]
  },
  {
   "cell_type": "code",
   "execution_count": 116,
   "id": "ae02183c",
   "metadata": {},
   "outputs": [
    {
     "name": "stdout",
     "output_type": "stream",
     "text": [
      "120\n"
     ]
    }
   ],
   "source": [
    "\n",
    "num = 5\n",
    "factorial = 5\n",
    "while True:\n",
    "    num = num - 1\n",
    "    factorial *= num\n",
    "    if num == 1:\n",
    "        break\n",
    "    \n",
    "    \n",
    "    \n",
    "print(factorial)\n",
    "       "
   ]
  },
  {
   "cell_type": "markdown",
   "id": "7b4e5ff6",
   "metadata": {},
   "source": [
    "### Write a program that calculates the sum of the digits of a number input by the user using a while loop.\n"
   ]
  },
  {
   "cell_type": "markdown",
   "id": "d95916d5",
   "metadata": {},
   "source": []
  },
  {
   "cell_type": "code",
   "execution_count": 117,
   "id": "21a3eb46",
   "metadata": {},
   "outputs": [
    {
     "name": "stdout",
     "output_type": "stream",
     "text": [
      "Sum of digits: 3\n"
     ]
    }
   ],
   "source": [
    "number = int(input(\"Enter a number: \"))\n",
    "sum_of_digits = 0\n",
    "\n",
    "while number != 0:\n",
    "    digit = number % 10        # Get the last digit\n",
    "    sum_of_digits += digit     # Add it to the sum\n",
    "    number = number // 10      # Remove the last digit\n",
    "\n",
    "print(\"Sum of digits:\", sum_of_digits)\n"
   ]
  },
  {
   "cell_type": "markdown",
   "id": "640bdd62",
   "metadata": {},
   "source": [
    "#### Write a program that checks if a number input by the user is a prime number using a for loop.\n"
   ]
  },
  {
   "cell_type": "code",
   "execution_count": null,
   "id": "6bd4dc20",
   "metadata": {},
   "outputs": [
    {
     "name": "stdout",
     "output_type": "stream",
     "text": [
      "2\n",
      "4 is not a prime number\n"
     ]
    }
   ],
   "source": [
    "num = 4  # Step 1: We choose a number to check, here it is 7\n",
    "\n",
    "if num > 1:  # Step 2: Prime numbers are greater than 1\n",
    "    for i in range(2, num):  # Step 3: We check from 2 to num-1\n",
    "        \n",
    "        if num % i == 0:     # Step 4: If num is divisible by i, it's not prime\n",
    "            print(num, \"is not a prime number\")\n",
    "            break            # Step 5: No need to check more, we stop the loop\n",
    "    else:\n",
    "        print(num, \"is a prime number\")  # Step 6: If loop didn't find any factor, it's prime\n",
    "else:\n",
    "    print(num, \"is not a prime number\")  # Step 7: Numbers <= 1 are not prime\n"
   ]
  },
  {
   "cell_type": "markdown",
   "id": "89ceb3f9",
   "metadata": {},
   "source": [
    "#### Write a program that prints the first n Fibonacci numbers, where n is input by the user."
   ]
  },
  {
   "cell_type": "markdown",
   "id": "8b0f4499",
   "metadata": {},
   "source": []
  }
 ],
 "metadata": {
  "kernelspec": {
   "display_name": "base",
   "language": "python",
   "name": "python3"
  },
  "language_info": {
   "codemirror_mode": {
    "name": "ipython",
    "version": 3
   },
   "file_extension": ".py",
   "mimetype": "text/x-python",
   "name": "python",
   "nbconvert_exporter": "python",
   "pygments_lexer": "ipython3",
   "version": "3.12.7"
  }
 },
 "nbformat": 4,
 "nbformat_minor": 5
}
