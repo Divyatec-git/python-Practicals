{
 "cells": [
  {
   "cell_type": "code",
   "execution_count": 1,
   "id": "52f2925b",
   "metadata": {},
   "outputs": [
    {
     "name": "stdout",
     "output_type": "stream",
     "text": [
      "12.0 degrees Celsius is equal to 53.6 degrees Fahrenheit.\n"
     ]
    }
   ],
   "source": [
    "def celsius_to_fahrenheit(C):\n",
    "    F = (C * 9/5) + 32\n",
    "    return F\n",
    "\n",
    "celsius = float(input(\"Enter temperature in Celsius: \"))\n",
    "fahrenheit = celsius_to_fahrenheit(celsius)\n",
    "print(f\"{celsius} degrees Celsius is equal to {fahrenheit} degrees Fahrenheit.\")"
   ]
  },
  {
   "cell_type": "code",
   "execution_count": 2,
   "id": "add1c3fd",
   "metadata": {},
   "outputs": [
    {
     "name": "stdout",
     "output_type": "stream",
     "text": [
      "The area of the rectangle with length 12.0 and breadth 21.0 is 252.0 units squared.\n"
     ]
    }
   ],
   "source": [
    "def area_of_rectangle(length, breadth):\n",
    "    area = length * breadth\n",
    "    return area\n",
    "\n",
    "length = float(input(\"Enter the length of the rectangle: \"))\n",
    "breadth = float(input(\"Enter the breadth of the rectangle: \"))\n",
    "area = area_of_rectangle(length, breadth)\n",
    "print(f\"The area of the rectangle with length {length} and breadth {breadth} is {area} units squared.\")"
   ]
  },
  {
   "cell_type": "code",
   "execution_count": 3,
   "id": "2fdf7f2a",
   "metadata": {},
   "outputs": [
    {
     "name": "stdout",
     "output_type": "stream",
     "text": [
      "The distance traveled is 144.0 meters.\n"
     ]
    }
   ],
   "source": [
    "def calculate_distance(speed, time):\n",
    "    distance = speed * time\n",
    "    return distance\n",
    "\n",
    "speed = float(input(\"Enter the speed in meters per second: \"))\n",
    "time = float(input(\"Enter the time in seconds: \"))\n",
    "distance = calculate_distance(speed, time)\n",
    "print(f\"The distance traveled is {distance} meters.\")"
   ]
  },
  {
   "cell_type": "code",
   "execution_count": null,
   "id": "bf406d2f",
   "metadata": {},
   "outputs": [
    {
     "name": "stdout",
     "output_type": "stream",
     "text": [
      "It will take 3 rounds to transport 15 people.\n"
     ]
    }
   ],
   "source": [
    "def calculate_lift_rounds(n, capacity):\n",
    "    rounds = n // capacity  # or int(n//capacity)\n",
    "    return rounds\n",
    "\n",
    "n = int(input(\"Enter the number of people: \"))\n",
    "capacity = int(input(\"Enter the capacity of each round: \"))\n",
    "rounds = calculate_lift_rounds(n, capacity)\n",
    "print(f\"It will take {rounds} rounds to transport {n} people.\")\n"
   ]
  },
  {
   "cell_type": "code",
   "execution_count": 6,
   "id": "23940117",
   "metadata": {},
   "outputs": [
    {
     "name": "stdout",
     "output_type": "stream",
     "text": [
      "The value of y is 156.0.\n"
     ]
    }
   ],
   "source": [
    "def calculate_y(slope, intercept, x):\n",
    "    y = slope * x + intercept\n",
    "    return y\n",
    "\n",
    "slope = float(input(\"Enter the slope: \"))\n",
    "intercept = float(input(\"Enter the intercept: \"))\n",
    "x = float(input(\"Enter the value of x: \"))\n",
    "y = calculate_y(slope, intercept, x)\n",
    "print(f\"The value of y is {y}.\")        "
   ]
  },
  {
   "cell_type": "code",
   "execution_count": 8,
   "id": "fefb270e",
   "metadata": {},
   "outputs": [
    {
     "name": "stdout",
     "output_type": "stream",
     "text": [
      "The sum of the list is 15.\n"
     ]
    }
   ],
   "source": [
    "def sum_list(numbers):\n",
    "    total = 0\n",
    "    for num in numbers:\n",
    "        total += num\n",
    "    return total\n",
    "\n",
    "numbers = [1, 2, 3, 4, 5]\n",
    "total = sum_list(numbers)\n",
    "print(f\"The sum of the list is {total}.\")"
   ]
  },
  {
   "cell_type": "code",
   "execution_count": 1,
   "id": "57b6813b",
   "metadata": {},
   "outputs": [
    {
     "name": "stdout",
     "output_type": "stream",
     "text": [
      "5\n",
      "The largest number in the list is 5.\n"
     ]
    }
   ],
   "source": [
    "def find_largest(numbers):\n",
    "    # OR  \n",
    "    print(max(numbers))\n",
    "    \n",
    "    largest = numbers[0]\n",
    "    for num in numbers:\n",
    "        if num > largest:\n",
    "            largest = num\n",
    "    return largest\n",
    "\n",
    "numbers = [1, 2, 3, 4, 5]\n",
    "largest = find_largest(numbers)\n",
    "print(f\"The largest number in the list is {largest}.\")  "
   ]
  },
  {
   "cell_type": "code",
   "execution_count": 10,
   "id": "9ae7bef3",
   "metadata": {},
   "outputs": [
    {
     "name": "stdout",
     "output_type": "stream",
     "text": [
      "The list without duplicates is [1, 2, 3, 4, 5].\n"
     ]
    }
   ],
   "source": [
    "def remove_duplicates(lst):\n",
    "    return list(set(lst))\n",
    "\n",
    "numbers = [1, 2, 3, 3, 4, 4, 5]\n",
    "result = remove_duplicates(numbers)\n",
    "print(f\"The list without duplicates is {result}.\")\n",
    "\n"
   ]
  },
  {
   "cell_type": "code",
   "execution_count": 14,
   "id": "8f9f8750",
   "metadata": {},
   "outputs": [
    {
     "name": "stdout",
     "output_type": "stream",
     "text": [
      "[1, 2, 3, 4, 5]\n",
      "[1, 2, 3, 4, 5]\n",
      "The list contains unique elements: True.\n"
     ]
    }
   ],
   "source": [
    "def check_unique(lst):\n",
    "    lst_new = list(set(lst))\n",
    "    print(lst_new)\n",
    "    print(lst)\n",
    "    return len(lst) == len(lst_new)\n",
    "\n",
    "numbers = [1, 2, 3, 4, 5]\n",
    "result = check_unique(numbers)\n",
    "print(f\"The list contains unique elements: {result}.\")\n"
   ]
  },
  {
   "cell_type": "code",
   "execution_count": 15,
   "id": "1502aa09",
   "metadata": {},
   "outputs": [
    {
     "name": "stdout",
     "output_type": "stream",
     "text": [
      "The reversed list is [5, 4, 3, 2, 1].\n"
     ]
    }
   ],
   "source": [
    "def reverse_list(lst):\n",
    "    return lst[::-1]\n",
    "\n",
    "numbers = [1, 2, 3, 4, 5]\n",
    "reversed_list = reverse_list(numbers)\n",
    "print(f\"The reversed list is {reversed_list}.\")"
   ]
  },
  {
   "cell_type": "code",
   "execution_count": 16,
   "id": "9fc726c7",
   "metadata": {},
   "outputs": [
    {
     "name": "stdout",
     "output_type": "stream",
     "text": [
      "The list contains 5 even numbers and 5 odd numbers.\n"
     ]
    }
   ],
   "source": [
    "def count_even_odd(lst):\n",
    "    even_count = 0\n",
    "    odd_count = 0\n",
    "    for num in lst:\n",
    "        if num % 2 == 0:\n",
    "            even_count += 1\n",
    "        else:\n",
    "            odd_count += 1\n",
    "    return even_count, odd_count\n",
    "\n",
    "numbers = [1, 2, 3, 4, 5, 6, 7, 8, 9, 10]\n",
    "even_count, odd_count = count_even_odd(numbers)\n",
    "print(f\"The list contains {even_count} even numbers and {odd_count} odd numbers.\")"
   ]
  },
  {
   "cell_type": "code",
   "execution_count": 17,
   "id": "5ff74222",
   "metadata": {},
   "outputs": [
    {
     "name": "stdout",
     "output_type": "stream",
     "text": [
      "The first list is a subset of the second list: True.\n"
     ]
    }
   ],
   "source": [
    "def is_subset(lst1, lst2):\n",
    "    return set(lst1).issubset(set(lst2))\n",
    "\n",
    "numbers1 = [1, 2, 3]\n",
    "numbers2 = [1, 2, 3, 4, 5]\n",
    "result = is_subset(numbers1, numbers2)\n",
    "print(f\"The first list is a subset of the second list: {result}.\")"
   ]
  },
  {
   "cell_type": "code",
   "execution_count": 3,
   "id": "25dfd85f",
   "metadata": {},
   "outputs": [
    {
     "name": "stdout",
     "output_type": "stream",
     "text": [
      "The maximum consecutive difference is 17.\n"
     ]
    }
   ],
   "source": [
    "def max_consecutive_difference(lst):\n",
    "    max_diff = 0\n",
    "    for i in range(1, len(lst)):\n",
    "        diff = abs(lst[i] - lst[i-1])\n",
    "        if diff > max_diff:\n",
    "            max_diff = diff\n",
    "    return max_diff\n",
    "\n",
    "numbers = [12, 22, 32, 49, 51]\n",
    "max_diff = max_consecutive_difference(numbers)\n",
    "print(f\"The maximum consecutive difference is {max_diff}.\")"
   ]
  },
  {
   "cell_type": "code",
   "execution_count": 20,
   "id": "7a1cd83a",
   "metadata": {},
   "outputs": [
    {
     "name": "stdout",
     "output_type": "stream",
     "text": [
      "The merged and sorted list is [1, 2, 3, 4, 5, 6, 7, 8].\n"
     ]
    }
   ],
   "source": [
    "def merge_two_sorted_lists(list1, list2):\n",
    "    merged_list = list1 + list2\n",
    "    merged_list.sort()\n",
    "    return merged_list\n",
    "\n",
    "list1 = [1, 3, 5, 7]\n",
    "list2 = [2, 4, 6, 8]\n",
    "merged_list = merge_two_sorted_lists(list1, list2)\n",
    "print(f\"The merged and sorted list is {merged_list}.\")"
   ]
  },
  {
   "cell_type": "code",
   "execution_count": 4,
   "id": "1cdecc3b",
   "metadata": {},
   "outputs": [
    {
     "name": "stdout",
     "output_type": "stream",
     "text": [
      "The rotated list is [4, 5, 6, 7, 1, 2, 3].\n"
     ]
    }
   ],
   "source": [
    "def rotate_list(lst, k):\n",
    "    rotated_list = lst[k:] + lst[:k]\n",
    "    return rotated_list\n",
    "\n",
    "numbers = [1, 2, 3, 4, 5,6,7]\n",
    "k = len(numbers) // 2\n",
    "rotated_list = rotate_list(numbers, k)\n",
    "print(f\"The rotated list is {rotated_list}.\")"
   ]
  },
  {
   "cell_type": "code",
   "execution_count": 31,
   "id": "653cba35",
   "metadata": {},
   "outputs": [
    {
     "name": "stdout",
     "output_type": "stream",
     "text": [
      "The merged dictionary is {'a': 1, 'b': 2, 'c': 3}.\n"
     ]
    }
   ],
   "source": [
    "def merge_lists_to_dictionary(keys, values):\n",
    "    # return dict(zip(keys, values))\n",
    "    dict = {}\n",
    "    for i,j in zip(keys, values):\n",
    "        dict[i]=j\n",
    "    return dict\n",
    "\n",
    "keys = ['a', 'b', 'c']\n",
    "values = [1, 2, 3]\n",
    "result = merge_lists_to_dictionary(keys, values)\n",
    "print(f\"The merged dictionary is {result}.\")"
   ]
  },
  {
   "cell_type": "code",
   "execution_count": 25,
   "id": "d23ed72c",
   "metadata": {},
   "outputs": [
    {
     "name": "stdout",
     "output_type": "stream",
     "text": [
      "The merged dictionary is {'a': 1, 'b': 2, 'c': 3, 'd': 4, 'e': 5, 'f': 6}.\n"
     ]
    }
   ],
   "source": [
    "def merge_three_dictionaries(dict1, dict2, dict3):\n",
    "    merged_dict = {**dict1, **dict2, **dict3}\n",
    "    return merged_dict\n",
    "\n",
    "dict1 = {'a': 1, 'b': 2}\n",
    "dict2 = {'c': 3, 'd': 4}\n",
    "dict3 = {'e': 5, 'f': 6}\n",
    "merged_dict = merge_three_dictionaries(dict1, dict2, dict3) \n",
    "print(f\"The merged dictionary is {merged_dict}.\")"
   ]
  },
  {
   "cell_type": "code",
   "execution_count": null,
   "id": "6c8bd797",
   "metadata": {},
   "outputs": [
    {
     "name": "stdout",
     "output_type": "stream",
     "text": [
      "The word frequency is {'hello': 2, 'world': 1}.\n"
     ]
    }
   ],
   "source": [
    "def count_word_frequency(sentence):\n",
    "    word_freq = {}\n",
    "    words = sentence.split() #It splits a string into a list of words (or parts), based on a separator (by default: space).\n",
    "    for word in words:\n",
    "        if word in word_freq:\n",
    "            word_freq[word] += 1\n",
    "        else:\n",
    "            word_freq[word] = 1\n",
    "    return word_freq\n",
    "\n",
    "sentence = \"hello world hello\"\n",
    "result = count_word_frequency(sentence)\n",
    "print(f\"The word frequency is {result}.\")"
   ]
  },
  {
   "cell_type": "code",
   "execution_count": 36,
   "id": "2a1b36dd",
   "metadata": {},
   "outputs": [
    {
     "name": "stdout",
     "output_type": "stream",
     "text": [
      "The first tuple is palindromic: True.\n",
      "The second tuple is palindromic: False.\n"
     ]
    }
   ],
   "source": [
    "def is_palindromic_tuple(tup):\n",
    "    return tup == tup[::-1]\n",
    "\n",
    "tuple1 = (1, 2, 3, 2, 1)\n",
    "tuple2 = (1, 2, 3, 4, 5)\n",
    "result1 = is_palindromic_tuple(tuple1)\n",
    "result2 = is_palindromic_tuple(tuple2)\n",
    "print(f\"The first tuple is palindromic: {result1}.\")\n",
    "print(f\"The second tuple is palindromic: {result2}.\")"
   ]
  },
  {
   "cell_type": "code",
   "execution_count": 38,
   "id": "1e889094",
   "metadata": {},
   "outputs": [
    {
     "name": "stdout",
     "output_type": "stream",
     "text": [
      "The merged dictionary is {'a': 1, 'b': 3, 'c': 4}.\n"
     ]
    }
   ],
   "source": [
    "def merge_dicts_with_overlapping_keys(dicts):\n",
    "    merged_dict = {}\n",
    "    for d in dicts:\n",
    "        merged_dict.update(d)\n",
    "    return merged_dict\n",
    "\n",
    "dict1 = {'a': 1, 'b': 2}\n",
    "dict2 = {'b': 3, 'c': 4}    \n",
    "merged_dict = merge_dicts_with_overlapping_keys([dict1, dict2])\n",
    "print(f\"The merged dictionary is {merged_dict}.\")\n"
   ]
  },
  {
   "cell_type": "code",
   "execution_count": null,
   "id": "2899c96f",
   "metadata": {},
   "outputs": [],
   "source": []
  }
 ],
 "metadata": {
  "kernelspec": {
   "display_name": "Python 3",
   "language": "python",
   "name": "python3"
  },
  "language_info": {
   "codemirror_mode": {
    "name": "ipython",
    "version": 3
   },
   "file_extension": ".py",
   "mimetype": "text/x-python",
   "name": "python",
   "nbconvert_exporter": "python",
   "pygments_lexer": "ipython3",
   "version": "3.12.9"
  }
 },
 "nbformat": 4,
 "nbformat_minor": 5
}
