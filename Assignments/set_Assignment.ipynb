{
 "cells": [
  {
   "cell_type": "markdown",
   "id": "d060f1b0",
   "metadata": {},
   "source": [
    "##### Create a set with the first 10 positive integers. Print the set.\n"
   ]
  },
  {
   "cell_type": "code",
   "execution_count": 6,
   "id": "ef7d48f5",
   "metadata": {},
   "outputs": [
    {
     "name": "stdout",
     "output_type": "stream",
     "text": [
      "{1, 2, 3, 4, 5, 6, 7, 8, 9, 10}\n"
     ]
    }
   ],
   "source": [
    "s1 = set(range(1,11))\n",
    "print(s1)"
   ]
  },
  {
   "cell_type": "markdown",
   "id": "9978506a",
   "metadata": {},
   "source": [
    "##### Add the number 11 to the set created in Assignment 1. Then remove the number 1 from the set. Print the modified set.\n"
   ]
  },
  {
   "cell_type": "code",
   "execution_count": 7,
   "id": "2bef8f3f",
   "metadata": {},
   "outputs": [
    {
     "name": "stdout",
     "output_type": "stream",
     "text": [
      "{1, 2, 3, 4, 5, 6, 7, 8, 9, 10, 11}\n",
      "{2, 3, 4, 5, 6, 7, 8, 9, 10, 11}\n"
     ]
    }
   ],
   "source": [
    "s1.add(11)\n",
    "print(s1)\n",
    "s1.pop()  # or s1.remove(1) \n",
    "print(s1) "
   ]
  },
  {
   "cell_type": "markdown",
   "id": "20607162",
   "metadata": {},
   "source": [
    "##### Create two sets: one with the first 5 positive integers and another with the first 5 even integers. Perform and print the results of union, intersection, difference, and symmetric difference operations on these sets.\n"
   ]
  },
  {
   "cell_type": "code",
   "execution_count": 15,
   "id": "627ae459",
   "metadata": {},
   "outputs": [
    {
     "name": "stdout",
     "output_type": "stream",
     "text": [
      "{1, 2, 3, 4, 5} {2, 4, 6, 8, 10}\n",
      "{1, 2, 3, 4, 5, 6, 8, 10} union\n",
      "{2, 4} intersection\n",
      "{1, 3, 5} difference\n",
      "{8, 10, 6} difference\n",
      "{1, 3, 5, 6, 8, 10} symmetric_difference\n"
     ]
    }
   ],
   "source": [
    "set1 = set(range(1, 6))\n",
    "set2 = set(range(2, 11, 2))\n",
    "print(set1, set2)\n",
    "print(set1.union(set2),\"union\") # merge set1 and set2 and print unique elements\n",
    "print(set1.intersection(set2),\"intersection\") # retrun common elements\n",
    "print(set1.difference(set2),\"difference\") # retrun unique elements in set1\n",
    "print(set2.difference(set1),\"difference\") # retrun unique elements in set2\n",
    "print(set1.symmetric_difference(set2),\"symmetric_difference\") # retrun unique elements in set1 and set2"
   ]
  },
  {
   "cell_type": "markdown",
   "id": "9414b2a0",
   "metadata": {},
   "source": [
    "##### Create a new set containing the squares of the first 10 positive integers using a set comprehension. Print the new set."
   ]
  },
  {
   "cell_type": "code",
   "execution_count": 17,
   "id": "849b9979",
   "metadata": {},
   "outputs": [
    {
     "name": "stdout",
     "output_type": "stream",
     "text": [
      "{64, 1, 4, 36, 100, 9, 16, 49, 81, 25}\n"
     ]
    }
   ],
   "source": [
    "s1 = set(range(1,11))\n",
    "squre = { i**2 for i in s1}\n",
    "print(squre)"
   ]
  },
  {
   "cell_type": "markdown",
   "id": "21b790c5",
   "metadata": {},
   "source": [
    "#### Create a new set containing only the even numbers from the set created in Assignment 1 using a set comprehension. Print the new set."
   ]
  },
  {
   "cell_type": "code",
   "execution_count": 19,
   "id": "1a5c0449",
   "metadata": {},
   "outputs": [
    {
     "name": "stdout",
     "output_type": "stream",
     "text": [
      "{2, 4, 6, 8, 10}\n"
     ]
    }
   ],
   "source": [
    "even = { i for i in s1 if i%2 == 0}\n",
    "print(even)"
   ]
  },
  {
   "cell_type": "markdown",
   "id": "4b59d5fa",
   "metadata": {},
   "source": [
    "#### Create a set with duplicate elements and remove the duplicates using set methods. Print the modified set.\n"
   ]
  },
  {
   "cell_type": "code",
   "execution_count": null,
   "id": "dd1aeadb",
   "metadata": {},
   "outputs": [
    {
     "name": "stdout",
     "output_type": "stream",
     "text": [
      "{1, 2, 3, 4, 12}\n"
     ]
    }
   ],
   "source": [
    "s1 = {1,2,1,2,4,1,3,12,3,2} # but it is already remove duplicate when we print it \n",
    "unique = set(s1) \n",
    "print(unique)"
   ]
  },
  {
   "cell_type": "markdown",
   "id": "17aaec83",
   "metadata": {},
   "source": [
    "##### Create two sets: one with the first 5 positive integers and another with the first 3 positive integers. Check if the second set is a subset of the first set and if the first set is a superset of the second set. Print the results"
   ]
  },
  {
   "cell_type": "code",
   "execution_count": null,
   "id": "c031143a",
   "metadata": {},
   "outputs": [
    {
     "name": "stdout",
     "output_type": "stream",
     "text": [
      "{1, 2, 3, 4, 5} s1\n",
      "{1, 2, 3} s2\n",
      "False subset\n",
      "True subset\n"
     ]
    }
   ],
   "source": [
    "s1 = set(range(1,6))\n",
    "s2 = set(range(1,4))\n",
    "print(s1,\"s1\")\n",
    "print(s2,\"s2\")\n",
    "print(s1.issubset(s2),\"subset\") \n",
    "print(s1.issuperset(s2),\"issuperset\")\n"
   ]
  },
  {
   "cell_type": "markdown",
   "id": "29853cb2",
   "metadata": {},
   "source": [
    "##### Create a frozenset with the first 5 positive integers. Print the frozenset.\n"
   ]
  },
  {
   "cell_type": "code",
   "execution_count": null,
   "id": "df7b2976",
   "metadata": {},
   "outputs": [
    {
     "name": "stdout",
     "output_type": "stream",
     "text": [
      "frozenset({1, 2, 3, 4, 5})\n"
     ]
    }
   ],
   "source": [
    "# A frozenset is just like a regular set, but immutable — which means you can't change it after it's created.\n",
    "\n",
    "s1 = frozenset(range(1,6))\n",
    "print(s1)"
   ]
  },
  {
   "cell_type": "markdown",
   "id": "6e45921d",
   "metadata": {},
   "source": [
    "#### Create a set with the first 5 positive integers. Convert it to a list, append the number 6, and convert it back to a set. Print the resulting set."
   ]
  },
  {
   "cell_type": "code",
   "execution_count": 30,
   "id": "c254c4e6",
   "metadata": {},
   "outputs": [
    {
     "name": "stdout",
     "output_type": "stream",
     "text": [
      "[1, 2, 3, 4, 5] lst\n",
      "[1, 2, 3, 4, 5, 6]\n",
      "{1, 2, 3, 4, 5, 6} set\n"
     ]
    }
   ],
   "source": [
    "s1 = set(range(1,6))\n",
    "l1 = list(s1)\n",
    "print(l1,\"lst\")\n",
    "l1.append(6)\n",
    "print(l1)\n",
    "s1 = set(l1)\n",
    "print(s1,\"set\") "
   ]
  },
  {
   "cell_type": "markdown",
   "id": "00f15c70",
   "metadata": {},
   "source": [
    "#### Create a dictionary with set keys and integer values. Print the dictionary.\n"
   ]
  },
  {
   "cell_type": "code",
   "execution_count": 39,
   "id": "97bd23f9",
   "metadata": {},
   "outputs": [
    {
     "name": "stdout",
     "output_type": "stream",
     "text": [
      "{frozenset({1, 2}): 3, frozenset({3, 4}): 7, frozenset({5, 6}): 11}\n"
     ]
    }
   ],
   "source": [
    "# dict = {\n",
    "#     {1:2,3:4,5:6}:\"abc\",\n",
    "#     {1:2,3:4,5:6}:\"xyz\"\n",
    "# }\n",
    "# print(dict)\n",
    "\n",
    "\n",
    "d = {\n",
    "    frozenset({1, 2}): 3,\n",
    "    frozenset({3, 4}): 7,\n",
    "    frozenset({5, 6}): 11\n",
    "}\n",
    "print(d)"
   ]
  },
  {
   "cell_type": "markdown",
   "id": "66cda7d9",
   "metadata": {},
   "source": [
    "#### Create a set and iterate over the elements, printing each element.\n"
   ]
  },
  {
   "cell_type": "code",
   "execution_count": 40,
   "id": "87644fc6",
   "metadata": {},
   "outputs": [
    {
     "name": "stdout",
     "output_type": "stream",
     "text": [
      "1\n",
      "2\n",
      "3\n",
      "4\n",
      "5\n"
     ]
    }
   ],
   "source": [
    "s1 = set(range(1,6))\n",
    "for i in s1:\n",
    "    print(i)"
   ]
  },
  {
   "cell_type": "markdown",
   "id": "bd75d33b",
   "metadata": {},
   "source": [
    "#### Create a set and remove elements from it until it is empty. Print the set after each removal.\n"
   ]
  },
  {
   "cell_type": "code",
   "execution_count": 47,
   "id": "62431dab",
   "metadata": {},
   "outputs": [
    {
     "name": "stdout",
     "output_type": "stream",
     "text": [
      "{2, 3, 4, 5}\n",
      "{3, 4, 5}\n",
      "{4, 5}\n",
      "{5}\n",
      "set()\n"
     ]
    }
   ],
   "source": [
    "s1 = set(range(1,6))\n",
    "while s1:\n",
    "    s1.pop()\n",
    "    print(s1)"
   ]
  },
  {
   "cell_type": "markdown",
   "id": "ba513d25",
   "metadata": {},
   "source": [
    "#### Create two sets and update the first set with the symmetric difference of the two sets. Print the modified first set.\n"
   ]
  },
  {
   "cell_type": "code",
   "execution_count": 57,
   "id": "7f0bb4e5",
   "metadata": {},
   "outputs": [
    {
     "name": "stdout",
     "output_type": "stream",
     "text": [
      "{1, 2, 3, 4, 5}\n",
      "{1, 2, 3, 4, 5, 6, 7, 8, 9}\n",
      "{6, 7, 8, 9}\n"
     ]
    }
   ],
   "source": [
    "s1 = set(range(1,6))\n",
    "\n",
    "s2 = set(range(1,10))\n",
    "print(s1)\n",
    "print(s2)\n",
    "s1.symmetric_difference_update(s2)\n",
    "print(s1)"
   ]
  },
  {
   "cell_type": "markdown",
   "id": "b70ce060",
   "metadata": {},
   "source": [
    "#### Create a set and test if certain elements are present in the set. Print the results.\n"
   ]
  },
  {
   "cell_type": "code",
   "execution_count": 58,
   "id": "c60ad4b2",
   "metadata": {},
   "outputs": [
    {
     "name": "stdout",
     "output_type": "stream",
     "text": [
      "True\n",
      "False\n"
     ]
    }
   ],
   "source": [
    "s1 = set(range(1,6))\n",
    "print(1 in s1)\n",
    "print(6 in s1)\n",
    "    "
   ]
  },
  {
   "cell_type": "markdown",
   "id": "0064f168",
   "metadata": {},
   "source": [
    "#### Create a set containing tuples, where each tuple contains two elements. Print the set."
   ]
  },
  {
   "cell_type": "code",
   "execution_count": 59,
   "id": "ba3fb1f6",
   "metadata": {},
   "outputs": [
    {
     "name": "stdout",
     "output_type": "stream",
     "text": [
      "{(7, 8, 9), (1, 2, 3), (4, 5, 6)}\n"
     ]
    }
   ],
   "source": [
    "s1 = {(1,2,3),(4,5,6),(7,8,9)}\n",
    "print(s1)"
   ]
  },
  {
   "cell_type": "code",
   "execution_count": null,
   "id": "26bbc0cc",
   "metadata": {},
   "outputs": [],
   "source": []
  }
 ],
 "metadata": {
  "kernelspec": {
   "display_name": "base",
   "language": "python",
   "name": "python3"
  },
  "language_info": {
   "codemirror_mode": {
    "name": "ipython",
    "version": 3
   },
   "file_extension": ".py",
   "mimetype": "text/x-python",
   "name": "python",
   "nbconvert_exporter": "python",
   "pygments_lexer": "ipython3",
   "version": "3.12.7"
  }
 },
 "nbformat": 4,
 "nbformat_minor": 5
}
