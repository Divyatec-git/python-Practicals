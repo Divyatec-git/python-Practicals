{
 "cells": [
  {
   "cell_type": "markdown",
   "id": "06581639",
   "metadata": {},
   "source": [
    "##### Define a recursive function to calculate the nth Fibonacci number using memoization. Test the function with different inputs."
   ]
  },
  {
   "cell_type": "code",
   "execution_count": null,
   "id": "cac2041a",
   "metadata": {},
   "outputs": [],
   "source": [
    "def fibonacci(n, memo={}):\n",
    "    if n in memo:\n",
    "        return memo[n]\n",
    "    if n <= 1:\n",
    "        return n\n",
    "    memo[n] = fibonacci(n - 1, memo) + fibonacci(n - 2, memo)\n",
    "    return memo[n]\n",
    "\n",
    "# Test\n",
    "print(fibonacci(10))  # 55\n",
    "print(fibonacci(15))  # 610"
   ]
  },
  {
   "cell_type": "markdown",
   "id": "8c9b7ba4",
   "metadata": {},
   "source": [
    "##### Define a function that takes two arguments, a and b, where b is a dictionary with a default value of an empty dictionary. The function should add a new key-value pair to the dictionary and return it. Test the function with different inputs."
   ]
  },
  {
   "cell_type": "code",
   "execution_count": null,
   "id": "cee7b2ec",
   "metadata": {},
   "outputs": [],
   "source": [
    "def add_to_dict(a, b=None):\n",
    "    if b is None:\n",
    "        b = {}\n",
    "    b[a] = a**2\n",
    "    return b\n",
    "\n",
    "# Test\n",
    "print(add_to_dict(2))  # {2: 4}\n",
    "print(add_to_dict(3, {1: 1}))  # {1: 1, 3: 9}                                                                           "
   ]
  },
  {
   "cell_type": "markdown",
   "id": "27b7cfc2",
   "metadata": {},
   "source": [
    "##### Define a function that takes a variable number of keyword arguments and returns a dictionary containing only those key-value pairs where the value is an integer. Test the function with different inputs."
   ]
  },
  {
   "cell_type": "code",
   "execution_count": 7,
   "id": "61b2830b",
   "metadata": {},
   "outputs": [
    {
     "name": "stdout",
     "output_type": "stream",
     "text": [
      "key: -  age and  value: - 23\n",
      "key: -  numbers and  value: - 90\n"
     ]
    },
    {
     "data": {
      "text/plain": [
       "{'age': 23, 'numbers': 90}"
      ]
     },
     "execution_count": 7,
     "metadata": {},
     "output_type": "execute_result"
    }
   ],
   "source": [
    "def filter_intenger(**kwargs):\n",
    "    dict = {}\n",
    "    for key,value in kwargs.items():\n",
    "        if type(value) == int:\n",
    "            print(f\"key: -  {key} and  value: - {value}\")\n",
    "            dict[key] = value\n",
    "    return dict\n",
    "\n",
    "\n",
    "\n",
    "filter_intenger(name=\"abcd\",age=23,numbers=90,education=\"Btech\")"
   ]
  },
  {
   "cell_type": "markdown",
   "id": "6731a9f7",
   "metadata": {},
   "source": [
    "#### Define a function that takes another function as a callback and a list of integers. The function should apply the callback to each integer in the list and return a new list with the results. Test with different callback functions."
   ]
  },
  {
   "cell_type": "code",
   "execution_count": 8,
   "id": "352c0cf4",
   "metadata": {},
   "outputs": [
    {
     "name": "stdout",
     "output_type": "stream",
     "text": [
      "[1, 4, 9, 16]\n",
      "[2, 3, 4, 5]\n"
     ]
    }
   ],
   "source": [
    "def apply_callback(callback, lst):\n",
    "    return [callback(x) for x in lst]\n",
    "\n",
    "# Test\n",
    "print(apply_callback(lambda x: x**2, [1, 2, 3, 4]))  # [1, 4, 9, 16]\n",
    "print(apply_callback(lambda x: x+1, [1, 2, 3, 4]))  # [2, 3, 4, 5]"
   ]
  },
  {
   "cell_type": "markdown",
   "id": "f6dd2e7c",
   "metadata": {},
   "source": [
    "#### \n",
    "Define a function that returns another function. The returned function should take an integer and return its square. Test the returned function with different inputs."
   ]
  },
  {
   "cell_type": "code",
   "execution_count": null,
   "id": "f7f8722c",
   "metadata": {},
   "outputs": [],
   "source": [
    "def outer_function():\n",
    "    def inner_function(x):\n",
    "        return x ** 2\n",
    "    return inner_function\n",
    "\n",
    "# Test\n",
    "square = outer_function()\n",
    "print(square(2))  # 4\n",
    "print(square(5))  # 25"
   ]
  },
  {
   "cell_type": "markdown",
   "id": "397256e6",
   "metadata": {},
   "source": [
    "#### Define a function that calculates the time taken to execute another function. Apply this decorator to a function that performs a complex calculation. Test the decorated function with different inputs."
   ]
  },
  {
   "cell_type": "markdown",
   "id": "0fd4d780",
   "metadata": {},
   "source": []
  }
 ],
 "metadata": {
  "kernelspec": {
   "display_name": "base",
   "language": "python",
   "name": "python3"
  },
  "language_info": {
   "codemirror_mode": {
    "name": "ipython",
    "version": 3
   },
   "file_extension": ".py",
   "mimetype": "text/x-python",
   "name": "python",
   "nbconvert_exporter": "python",
   "pygments_lexer": "ipython3",
   "version": "3.12.7"
  }
 },
 "nbformat": 4,
 "nbformat_minor": 5
}
