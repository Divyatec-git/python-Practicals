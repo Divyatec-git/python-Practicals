{
 "cells": [
  {
   "cell_type": "markdown",
   "id": "06581639",
   "metadata": {},
   "source": [
    "##### Define a recursive function to calculate the nth Fibonacci number using memoization. Test the function with different inputs."
   ]
  },
  {
   "cell_type": "code",
   "execution_count": null,
   "id": "cac2041a",
   "metadata": {},
   "outputs": [],
   "source": [
    "def fibonacci(n, memo={}):\n",
    "    if n in memo:\n",
    "        return memo[n]\n",
    "    if n <= 1:\n",
    "        return n\n",
    "    memo[n] = fibonacci(n - 1, memo) + fibonacci(n - 2, memo)\n",
    "    return memo[n]\n",
    "\n",
    "# Test\n",
    "print(fibonacci(10))  # 55\n",
    "print(fibonacci(15))  # 610"
   ]
  },
  {
   "cell_type": "markdown",
   "id": "8c9b7ba4",
   "metadata": {},
   "source": [
    "##### Define a function that takes two arguments, a and b, where b is a dictionary with a default value of an empty dictionary. The function should add a new key-value pair to the dictionary and return it. Test the function with different inputs."
   ]
  },
  {
   "cell_type": "code",
   "execution_count": null,
   "id": "cee7b2ec",
   "metadata": {},
   "outputs": [],
   "source": [
    "def add_to_dict(a, b=None):\n",
    "    if b is None:\n",
    "        b = {}\n",
    "    b[a] = a**2\n",
    "    return b\n",
    "\n",
    "# Test\n",
    "print(add_to_dict(2))  # {2: 4}\n",
    "print(add_to_dict(3, {1: 1}))  # {1: 1, 3: 9}                                                                           "
   ]
  },
  {
   "cell_type": "markdown",
   "id": "27b7cfc2",
   "metadata": {},
   "source": [
    "##### Define a function that takes a variable number of keyword arguments and returns a dictionary containing only those key-value pairs where the value is an integer. Test the function with different inputs."
   ]
  },
  {
   "cell_type": "code",
   "execution_count": 7,
   "id": "61b2830b",
   "metadata": {},
   "outputs": [
    {
     "name": "stdout",
     "output_type": "stream",
     "text": [
      "key: -  age and  value: - 23\n",
      "key: -  numbers and  value: - 90\n"
     ]
    },
    {
     "data": {
      "text/plain": [
       "{'age': 23, 'numbers': 90}"
      ]
     },
     "execution_count": 7,
     "metadata": {},
     "output_type": "execute_result"
    }
   ],
   "source": [
    "def filter_intenger(**kwargs):\n",
    "    dict = {}\n",
    "    for key,value in kwargs.items():\n",
    "        if type(value) == int:\n",
    "            print(f\"key: -  {key} and  value: - {value}\")\n",
    "            dict[key] = value\n",
    "    return dict\n",
    "\n",
    "\n",
    "\n",
    "filter_intenger(name=\"abcd\",age=23,numbers=90,education=\"Btech\")"
   ]
  },
  {
   "cell_type": "markdown",
   "id": "6731a9f7",
   "metadata": {},
   "source": [
    "#### Define a function that takes another function as a callback and a list of integers. The function should apply the callback to each integer in the list and return a new list with the results. Test with different callback functions."
   ]
  },
  {
   "cell_type": "code",
   "execution_count": 8,
   "id": "352c0cf4",
   "metadata": {},
   "outputs": [
    {
     "name": "stdout",
     "output_type": "stream",
     "text": [
      "[1, 4, 9, 16]\n",
      "[2, 3, 4, 5]\n"
     ]
    }
   ],
   "source": [
    "def apply_callback(callback, lst):\n",
    "    return [callback(x) for x in lst]\n",
    "\n",
    "# Test\n",
    "print(apply_callback(lambda x: x**2, [1, 2, 3, 4]))  # [1, 4, 9, 16]\n",
    "print(apply_callback(lambda x: x+1, [1, 2, 3, 4]))  # [2, 3, 4, 5]"
   ]
  },
  {
   "cell_type": "markdown",
   "id": "f6dd2e7c",
   "metadata": {},
   "source": [
    "#### \n",
    "Define a function that returns another function. The returned function should take an integer and return its square. Test the returned function with different inputs."
   ]
  },
  {
   "cell_type": "code",
   "execution_count": null,
   "id": "f7f8722c",
   "metadata": {},
   "outputs": [],
   "source": [
    "def outer_function():\n",
    "    def inner_function(x):\n",
    "        return x ** 2\n",
    "    return inner_function # returns the inner function \n",
    "\n",
    "# Test\n",
    "square = outer_function()\n",
    "print(square(2))  # 4\n",
    "print(square(5))  # 25"
   ]
  },
  {
   "cell_type": "markdown",
   "id": "397256e6",
   "metadata": {},
   "source": [
    "#### Define a function that calculates the time taken to execute another function. Apply this decorator to a function that performs a complex calculation. Test the decorated function with different inputs."
   ]
  },
  {
   "cell_type": "code",
   "execution_count": null,
   "id": "4b9e1ba4",
   "metadata": {},
   "outputs": [
    {
     "name": "stdout",
     "output_type": "stream",
     "text": [
      "Function complex_calculation took 6.198883056640625e-06 seconds to execute.\n",
      "30\n"
     ]
    }
   ],
   "source": [
    "import time\n",
    "\n",
    "def timer_decorator(func):\n",
    "    def wrapper(*args, **kwargs):\n",
    "        start_time = time.time()\n",
    "        result = func(*args, **kwargs)\n",
    "        end_time = time.time()\n",
    "        print(f\"Function {func.__name__} took {end_time - start_time} seconds to execute.\")\n",
    "        return result\n",
    "    return wrapper\n",
    "\n",
    "@timer_decorator #it is decorator\n",
    "#\"Wrap this function with the timer_decorator so I can add extra behavior (like timing) without changing the original function’s code.\"\n",
    "def complex_calculation(n):\n",
    "    return sum(x**2 for x in range(n))\n",
    "\n",
    "# Test\n",
    "print(complex_calculation(5))"
   ]
  },
  {
   "cell_type": "markdown",
   "id": "0fd4d780",
   "metadata": {},
   "source": [
    "##### Define a higher-order function that takes two functions, a filter function and a map function, along with a list of integers. The higher-order function should first filter the integers using the filter function and then apply the map function to the filtered integers. Test with different filter and map functions."
   ]
  },
  {
   "cell_type": "code",
   "execution_count": 16,
   "id": "cf607433",
   "metadata": {},
   "outputs": [
    {
     "name": "stdout",
     "output_type": "stream",
     "text": [
      "[4, 5]\n"
     ]
    }
   ],
   "source": [
    "def HOC(filter_fun,map_fun,lst):\n",
    "    return [map_fun(x) for x in lst if filter_fun(x)]\n",
    "    \n",
    "\n",
    "test = HOC(lambda x:x > 2,lambda x:x+1,[1,2,3,4])\n",
    "print(test)"
   ]
  },
  {
   "cell_type": "markdown",
   "id": "6c2d6c7e",
   "metadata": {},
   "source": [
    "#### Define a function that composes two functions, f and g, such that the result is f(g(x)). Test with different functions f and g."
   ]
  },
  {
   "cell_type": "raw",
   "id": "c3eb202e",
   "metadata": {
    "vscode": {
     "languageId": "raw"
    }
   },
   "source": [
    "Define a function that composes two functions f and g.\n",
    "\n",
    "When called with an input x, it should return: f(g(x))\n",
    "\n",
    "This is called function composition.\n",
    "\n"
   ]
  },
  {
   "cell_type": "code",
   "execution_count": 23,
   "id": "6189076f",
   "metadata": {},
   "outputs": [
    {
     "name": "stdout",
     "output_type": "stream",
     "text": [
      "16\n",
      "7\n",
      "11\n"
     ]
    }
   ],
   "source": [
    "#It returns a new function that takes x and does f(g(x)).\n",
    "def compose(f, g):\n",
    "    return lambda x: f(g(x)) # squre(duble(2))\n",
    "\n",
    "def square(n):\n",
    "    return n * n\n",
    "\n",
    "\n",
    "def double(n):\n",
    "    return n * 2\n",
    "\n",
    "test = compose(square, double)\n",
    "print(test(2))\n",
    "\n",
    "\n",
    "def compose_new(f, g):\n",
    "    return lambda x: f(g(x)) # f = lambda x: x + 1 and g = lambda x: x * 2\n",
    "                             # f(g(x)) = (x * 2) + 1\n",
    "                             #  first run this lambda x: x * 2  -> g(x) then f(g(x)) means  lambda x: x + 1 \n",
    "\n",
    "# Test\n",
    "f = lambda x: x + 1\n",
    "g = lambda x: x * 2\n",
    "h = compose_new(f, g)\n",
    "print(h(3))  # 7\n",
    "print(h(5))"
   ]
  },
  {
   "cell_type": "markdown",
   "id": "a818a7d2",
   "metadata": {},
   "source": [
    "#### Use the functools.partial function to create a new function that multiplies its input by 2. Test the new function with different inputs."
   ]
  },
  {
   "cell_type": "code",
   "execution_count": 25,
   "id": "9036c343",
   "metadata": {},
   "outputs": [
    {
     "name": "stdout",
     "output_type": "stream",
     "text": [
      "10\n",
      "20\n",
      "6\n"
     ]
    }
   ],
   "source": [
    "# partial lets you fix some arguments of a function and create a new function with fewer arguments.\n",
    "# It's useful when you want to \"pre-fill\" some arguments of a function.\n",
    "from functools import partial\n",
    "\n",
    "def multiply(x, y):\n",
    "    return x * y\n",
    "\n",
    "# Create a new function that multiplies its input by 2\n",
    "double = partial(multiply, 2)\n",
    "\n",
    "# Test the new function with different inputs\n",
    "print(double(5))   # 2 * 5 = 10\n",
    "print(double(10))  # 2 * 10 = 20\n",
    "print(double(3))   # 2 * 3 = 6\n"
   ]
  },
  {
   "cell_type": "markdown",
   "id": "b125a502",
   "metadata": {},
   "source": [
    "#### Define a function that takes a list of integers and returns their average. The function should handle any errors that occur (e.g., empty list) and return None in such cases. Test with different inputs."
   ]
  },
  {
   "cell_type": "code",
   "execution_count": 39,
   "id": "b43c0825",
   "metadata": {},
   "outputs": [
    {
     "name": "stdout",
     "output_type": "stream",
     "text": [
      "(1, 2, 3, 4, 5)\n",
      "15 5\n",
      "3.0\n",
      "()\n",
      "0 0\n",
      "None\n"
     ]
    }
   ],
   "source": [
    "def average(*args):\n",
    "    \n",
    "    try:  \n",
    "        print(args)\n",
    "        print(sum(args), len(args))\n",
    "        return sum(args) / len(args)\n",
    "    except ZeroDivisionError:\n",
    "        return None\n",
    "\n",
    "lst = [1, 2, 3, 4, 5]\n",
    "\n",
    "print(average(*lst))\n",
    "print(average())\n"
   ]
  },
  {
   "cell_type": "markdown",
   "id": "6b7a245d",
   "metadata": {},
   "source": [
    "##### Define a function that generates an infinite sequence of Fibonacci numbers. Test by printing the first 10 numbers in the sequence."
   ]
  },
  {
   "cell_type": "markdown",
   "id": "272ba7d3",
   "metadata": {},
   "source": [
    "for ... in range(10) → This is a for loop that runs 10 times.\n",
    "\n",
    "range(10) → Creates a sequence of numbers from 0 to 9 (10 numbers in total).\n",
    "\n",
    "_ (underscore) → This is a convention in Python used when the loop variable is not needed.\n",
    "\n",
    "Instead of writing for i in range(10):, we write for _ in range(10): when we don't care about the value of the counter.\n",
    "\n",
    "next() is a built-in function used to get the next item from an iterator or generator.\n",
    "\n"
   ]
  },
  {
   "cell_type": "code",
   "execution_count": 40,
   "id": "1fc48994",
   "metadata": {},
   "outputs": [
    {
     "name": "stdout",
     "output_type": "stream",
     "text": [
      "0\n",
      "1\n",
      "1\n",
      "2\n",
      "3\n",
      "5\n",
      "8\n",
      "13\n",
      "21\n",
      "34\n"
     ]
    }
   ],
   "source": [
    "def fibonacci_generator():\n",
    "    a, b = 0, 1\n",
    "    while True:\n",
    "        yield a\n",
    "        a, b = b, a + b\n",
    "\n",
    "# Test\n",
    "fib_gen = fibonacci_generator()\n",
    "for _ in range(10):\n",
    "    print(next(fib_gen))"
   ]
  },
  {
   "cell_type": "markdown",
   "id": "3e60e4ab",
   "metadata": {},
   "source": [
    "#### Define a curried function that takes three arguments, one at a time, and returns their product. Test the function by providing arguments one at a time."
   ]
  },
  {
   "cell_type": "code",
   "execution_count": 42,
   "id": "87588956",
   "metadata": {},
   "outputs": [
    {
     "name": "stdout",
     "output_type": "stream",
     "text": [
      "6\n",
      "9\n"
     ]
    }
   ],
   "source": [
    "def curred(x):\n",
    "    def inner1(y):\n",
    "        def inner2(z):\n",
    "            return x + y + z\n",
    "        return inner2\n",
    "    return inner1\n",
    "\n",
    "test = curred(2)\n",
    "test2 = test(2)\n",
    "test3 = test2(2)\n",
    "print(test3)\n",
    "\n",
    "print(curred(3)(3)(3))"
   ]
  },
  {
   "cell_type": "markdown",
   "id": "f1f20a7c",
   "metadata": {},
   "source": [
    "#### Define a function that uses a context manager to write a list of integers to a file. The function should handle any errors that occur during file operations. Test with different lists."
   ]
  },
  {
   "cell_type": "code",
   "execution_count": null,
   "id": "7fe06ae0",
   "metadata": {},
   "outputs": [],
   "source": []
  },
  {
   "cell_type": "markdown",
   "id": "d0cee2b0",
   "metadata": {},
   "source": [
    "#### Define a function that takes a list of mixed data types (integers, strings, and floats) and returns three lists: one containing all the integers, one containing all the strings, and one containing all the floats. Test with different inputs."
   ]
  },
  {
   "cell_type": "code",
   "execution_count": 57,
   "id": "33661b6d",
   "metadata": {},
   "outputs": [
    {
     "name": "stdout",
     "output_type": "stream",
     "text": [
      "{'integrer': [1, 2], 'string': ['hello', '21212', 'wolrd'], 'float': [12.45], 'bool': [True]}\n",
      "{'integrer': [1212], 'string': ['abcd', 'abcd1212'], 'float': [67.9], 'bool': [True, False]}\n",
      "([1, 3], ['a', 'b', 'c'], [2.5, 4.0])\n"
     ]
    }
   ],
   "source": [
    "def find_type(args):\n",
    "    integer_lst ,string_lst ,float_lst ,bool_lst = [],[],[],[]\n",
    "    for i in args:\n",
    "        if type(i) == int:\n",
    "            integer_lst.append(i)\n",
    "        elif type(i) == str:\n",
    "            string_lst.append(i)\n",
    "        elif type(i) == float:\n",
    "            float_lst.append(i)\n",
    "        elif type(i) == bool:\n",
    "            bool_lst.append(i)\n",
    "    return {\"integrer\": integer_lst\n",
    "            ,\"string\":string_lst,\"float\":float_lst,\"bool\":bool_lst}\n",
    "\n",
    "lst = [1,2,\"hello\",True,\"21212\",12.45,\"wolrd\"]\n",
    "print(find_type(lst))\n",
    "\n",
    "\n",
    "lst1 = [\"abcd\",\"abcd1212\",1212,67.9,True,False]\n",
    "print(find_type(lst1))\n",
    "\n",
    "#isinstance() is a built-in function that checks if a value (or object) is of a specific type or class.\n",
    "#isinstance(object, type)\n",
    "#object → the value or variable you want to check\n",
    "#type → the type you want to compare it with (e.g., int, str, list, etc.)\n",
    "def separate_types(lst):\n",
    "    ints, strs, floats = [], [], []\n",
    "    for item in lst:\n",
    "        if isinstance(item, int):\n",
    "            ints.append(item)\n",
    "        elif isinstance(item, str):\n",
    "            strs.append(item)\n",
    "        elif isinstance(item, float):\n",
    "            floats.append(item)\n",
    "    return ints, strs, floats\n",
    "\n",
    "# Test\n",
    "print(separate_types([1, 'a', 2.5, 3, 'b', 4.0, 'c']))  # ([1, 3], ['a', 'b', 'c'], [2.5, 4.0])"
   ]
  },
  {
   "cell_type": "markdown",
   "id": "bf5f033d",
   "metadata": {},
   "source": [
    "#### Define a function that maintains state between calls using a mutable default argument. The function should keep track of how many times it has been called. Test by calling the function multiple times."
   ]
  },
  {
   "cell_type": "markdown",
   "id": "201f8604",
   "metadata": {},
   "source": [
    "The list [0] is created only once, at the time the function is defined, not every time it’s called.\n",
    "So when you call the function multiple times, Python keeps using the same list object in memory.\n",
    "\n",
    "What actually happens behind the scenes:\n",
    "First time you define the function, Python stores counter as a reference to [0].\n",
    "\n",
    "Each time you call the function, Python uses the existing list.\n",
    "\n",
    "So, when you do counter[0] += 1, you're modifying the same list each time."
   ]
  },
  {
   "cell_type": "code",
   "execution_count": 61,
   "id": "6affabdf",
   "metadata": {},
   "outputs": [
    {
     "name": "stdout",
     "output_type": "stream",
     "text": [
      "1\n",
      "2\n",
      "3\n",
      "--------------------\n",
      "This function has been called 1 times.\n",
      "This function has been called 2 times.\n",
      "This function has been called 3 times.\n"
     ]
    }
   ],
   "source": [
    "def call_counter(counter={'count': 0}):\n",
    "    counter['count'] += 1\n",
    "    return counter['count']\n",
    "\n",
    "# Test\n",
    "print(call_counter())  # 1\n",
    "print(call_counter())  # 2\n",
    "print(call_counter())  # 3\n",
    "\n",
    "print('-'*20)\n",
    "def call_counter(counter=[0]):\n",
    "    counter[0] += 1\n",
    "    print(f\"This function has been called {counter[0]} times.\")\n",
    "\n",
    "# Test\n",
    "call_counter()  # ➜ 1st call\n",
    "call_counter()  # ➜ 2nd call\n",
    "call_counter()  # ➜ 3rd call\n"
   ]
  },
  {
   "cell_type": "code",
   "execution_count": null,
   "id": "7b2b3dc7",
   "metadata": {},
   "outputs": [],
   "source": []
  }
 ],
 "metadata": {
  "kernelspec": {
   "display_name": "Python 3",
   "language": "python",
   "name": "python3"
  },
  "language_info": {
   "codemirror_mode": {
    "name": "ipython",
    "version": 3
   },
   "file_extension": ".py",
   "mimetype": "text/x-python",
   "name": "python",
   "nbconvert_exporter": "python",
   "pygments_lexer": "ipython3",
   "version": "3.12.9"
  }
 },
 "nbformat": 4,
 "nbformat_minor": 5
}
