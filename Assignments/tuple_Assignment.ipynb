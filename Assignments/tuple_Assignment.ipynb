{
 "cells": [
  {
   "cell_type": "markdown",
   "id": "2f8f75a8",
   "metadata": {},
   "source": [
    "##### Create a tuple with the first 10 positive integers. Print the tuple.\n"
   ]
  },
  {
   "cell_type": "code",
   "execution_count": 2,
   "id": "9d8320ca",
   "metadata": {},
   "outputs": [
    {
     "name": "stdout",
     "output_type": "stream",
     "text": [
      "(1, 2, 3, 4, 5, 6, 7, 8, 9, 10)\n"
     ]
    }
   ],
   "source": [
    "t1 = tuple(range(1,11))\n",
    "print(t1)"
   ]
  },
  {
   "cell_type": "markdown",
   "id": "97ba9145",
   "metadata": {},
   "source": [
    "##### Print the first, middle, and last elements of the tuple created in Assignment 1.\n"
   ]
  },
  {
   "cell_type": "code",
   "execution_count": 4,
   "id": "2cb959b9",
   "metadata": {},
   "outputs": [
    {
     "name": "stdout",
     "output_type": "stream",
     "text": [
      "1\n",
      "5\n",
      "10\n"
     ]
    }
   ],
   "source": [
    "first = t1[0]\n",
    "print(first)\n",
    "# middle = int(len(t1) / 2)\n",
    "middle = len(t1) // 2\n",
    "\n",
    "print(middle)\n",
    "last = t1[-1]\n",
    "print(last)"
   ]
  },
  {
   "cell_type": "markdown",
   "id": "3fbb7406",
   "metadata": {},
   "source": [
    "##### Print the first three elements, the last three elements, and the elements from index 2 to 5 of the tuple created in Assignment 1."
   ]
  },
  {
   "cell_type": "code",
   "execution_count": 8,
   "id": "747ea600",
   "metadata": {},
   "outputs": [
    {
     "name": "stdout",
     "output_type": "stream",
     "text": [
      "(1, 2, 3)\n",
      "(8, 9, 10)\n",
      "(2, 3, 4, 5)\n"
     ]
    }
   ],
   "source": [
    "print(t1[0:3])\n",
    "print(t1[-3:])\n",
    "print(t1[1:5])"
   ]
  },
  {
   "cell_type": "markdown",
   "id": "1eae2e2a",
   "metadata": {},
   "source": [
    "##### Create a nested tuple representing a 3x3 matrix and print the matrix. Access and print the element at the second row and third column.\n"
   ]
  },
  {
   "cell_type": "code",
   "execution_count": 9,
   "id": "11d9fafb",
   "metadata": {},
   "outputs": [
    {
     "name": "stdout",
     "output_type": "stream",
     "text": [
      "6\n"
     ]
    }
   ],
   "source": [
    "matrix = (\n",
    "    [1,2,3],\n",
    "    [4,5,6],\n",
    "    [7,8,9]\n",
    ")\n",
    "print(matrix[1][2])"
   ]
  },
  {
   "cell_type": "markdown",
   "id": "746d51c4",
   "metadata": {},
   "source": [
    "##### Concatenate two tuples: (1, 2, 3) and (4, 5, 6). Print the resulting tuple.\n"
   ]
  },
  {
   "cell_type": "code",
   "execution_count": 10,
   "id": "8176006e",
   "metadata": {},
   "outputs": [
    {
     "name": "stdout",
     "output_type": "stream",
     "text": [
      "(1, 2, 3, 4, 5, 6)\n"
     ]
    }
   ],
   "source": [
    "t1 =(1,2,3)\n",
    "t2 = (4,5,6)\n",
    "t3 = t1 + t2\n",
    "print(t3)"
   ]
  },
  {
   "cell_type": "markdown",
   "id": "cb4b1a63",
   "metadata": {},
   "source": [
    "##### Create a tuple with duplicate elements and count the occurrences of an element. Find the index of the first occurrence of an element in the tuple.\n"
   ]
  },
  {
   "cell_type": "code",
   "execution_count": 21,
   "id": "561c0b54",
   "metadata": {},
   "outputs": [
    {
     "name": "stdout",
     "output_type": "stream",
     "text": [
      " 1 : - 2, and it's frist index is 0\n",
      " 4 : - 3, and it's frist index is 1\n",
      " 2 : - 3, and it's frist index is 2\n",
      " 5 : - 2, and it's frist index is 6\n"
     ]
    }
   ],
   "source": [
    "t1 =(1,4,2,3,4,2,5,7,1,5,2,4)\n",
    "\n",
    "number  = []\n",
    "for i in t1:\n",
    "    if t1.count(i) > 1 and i not in number:\n",
    "        print(f\" {i} : - {t1.count(i)}, and it's frist index is {t1.index(i)}\")\n",
    "        number.append(i)\n",
    "\n"
   ]
  },
  {
   "cell_type": "markdown",
   "id": "ba5f138c",
   "metadata": {},
   "source": [
    "##### Create a tuple with 5 elements and unpack it into 5 variables. Print the variables.\n"
   ]
  },
  {
   "cell_type": "code",
   "execution_count": 22,
   "id": "2f53dac4",
   "metadata": {},
   "outputs": [
    {
     "name": "stdout",
     "output_type": "stream",
     "text": [
      "1 2 3 4 5\n"
     ]
    }
   ],
   "source": [
    "t1 = (1,2,3,4,5)\n",
    "a,b,c,d,e = t1\n",
    "print(a,b,c,d,e)"
   ]
  },
  {
   "cell_type": "markdown",
   "id": "1308e4c3",
   "metadata": {},
   "source": [
    "##### Convert a list of the first 5 positive integers to a tuple. Print the tuple.\n"
   ]
  },
  {
   "cell_type": "code",
   "execution_count": 25,
   "id": "4ba26022",
   "metadata": {},
   "outputs": [
    {
     "name": "stdout",
     "output_type": "stream",
     "text": [
      "[1, 2, 3, 4]\n",
      "(1, 2, 3, 4)\n"
     ]
    }
   ],
   "source": [
    "l1 = list(range(1,5))\n",
    "print(l1)\n",
    "print(tuple(l1))"
   ]
  },
  {
   "cell_type": "markdown",
   "id": "1e0a1e6d",
   "metadata": {},
   "source": [
    "#### Create a tuple containing 3 tuples, each with 3 elements. Print the tuple of tuples.\n"
   ]
  },
  {
   "cell_type": "code",
   "execution_count": 26,
   "id": "201b1331",
   "metadata": {},
   "outputs": [
    {
     "name": "stdout",
     "output_type": "stream",
     "text": [
      "((1, 2, 3), (4, 5, 6), (7, 8, 9))\n"
     ]
    }
   ],
   "source": [
    "t1 = ((1,2,3),(4,5,6),(7,8,9))\n",
    "print(t1)"
   ]
  },
  {
   "cell_type": "markdown",
   "id": "1f1ea2fb",
   "metadata": {},
   "source": [
    "##### Create a tuple with the first 5 positive integers. Convert it to a list, append the number 6, and convert it back to a tuple. Print the resulting tuple."
   ]
  },
  {
   "cell_type": "code",
   "execution_count": 37,
   "id": "f2301d41",
   "metadata": {},
   "outputs": [
    {
     "name": "stdout",
     "output_type": "stream",
     "text": [
      "[1, 2, 3, 4, 5]\n",
      "[1, 2, 3, 4, 5, 6]\n",
      "(1, 2, 3, 4, 5, 6)\n"
     ]
    }
   ],
   "source": [
    "t1 = tuple(range(1,6))\n",
    "l1 = list(t1)\n",
    "print(l1)\n",
    "l1.append(6)\n",
    "t1 = tuple(l1)\n",
    "print(l1)\n",
    "print(t1)   "
   ]
  },
  {
   "cell_type": "markdown",
   "id": "45ac489a",
   "metadata": {},
   "source": [
    "#### Create a tuple with the characters of a string. Join the tuple elements into a single string. Print the string.\n"
   ]
  },
  {
   "cell_type": "code",
   "execution_count": 38,
   "id": "23535cd5",
   "metadata": {},
   "outputs": [
    {
     "name": "stdout",
     "output_type": "stream",
     "text": [
      "hello\n"
     ]
    }
   ],
   "source": [
    "t1 = ('h','e','l','l','o')\n",
    "print(''.join(t1))"
   ]
  },
  {
   "cell_type": "markdown",
   "id": "86e600ea",
   "metadata": {},
   "source": [
    "#### Create a dictionary with tuple keys and integer values. Print the dictionary.\n"
   ]
  },
  {
   "cell_type": "code",
   "execution_count": 43,
   "id": "818c867c",
   "metadata": {},
   "outputs": [
    {
     "name": "stdout",
     "output_type": "stream",
     "text": [
      "{(1, 2): 2, (4, 5): 3, (7, 8): 4}\n"
     ]
    }
   ],
   "source": [
    "t1 = {\n",
    "    (1, 2): 2,\n",
    "    (4, 5): 3,\n",
    "    (7, 8): 4\n",
    "}\n",
    "print(t1)"
   ]
  },
  {
   "cell_type": "markdown",
   "id": "41248641",
   "metadata": {},
   "source": [
    "#### Create a nested tuple and iterate over the elements, printing each element.\n"
   ]
  },
  {
   "cell_type": "code",
   "execution_count": 46,
   "id": "431422e2",
   "metadata": {},
   "outputs": [
    {
     "name": "stdout",
     "output_type": "stream",
     "text": [
      "1 2 3 4 5 6 7 8 9 "
     ]
    }
   ],
   "source": [
    "t1 = ((1,2,3),(4,5,6),(7,8,9))\n",
    "for i in t1:\n",
    "    for j in i:\n",
    "        print(j,end=\" \")"
   ]
  },
  {
   "cell_type": "markdown",
   "id": "0840934e",
   "metadata": {},
   "source": [
    "#### Create a tuple with duplicate elements. Convert it to a set to remove duplicates and print the resulting set.\n"
   ]
  },
  {
   "cell_type": "code",
   "execution_count": 49,
   "id": "398286a0",
   "metadata": {},
   "outputs": [
    {
     "name": "stdout",
     "output_type": "stream",
     "text": [
      "(1, 3, 2, 4, 5, 2, 3, 4, 6, 23, 2)\n",
      "(1, 2, 3, 4, 5, 6, 23)\n"
     ]
    }
   ],
   "source": [
    "t1  = (1,3,2,4,5,2,3,4,6,23,2)\n",
    "print(t1)\n",
    "t1 = tuple(set(t1))\n",
    "print(t1)"
   ]
  },
  {
   "cell_type": "markdown",
   "id": "d6b63d55",
   "metadata": {},
   "source": [
    "#### Write functions that take a tuple and return the minimum, maximum, and sum of the elements. Print the results for a sample tuple."
   ]
  },
  {
   "cell_type": "code",
   "execution_count": 51,
   "id": "43b32956",
   "metadata": {},
   "outputs": [
    {
     "name": "stdout",
     "output_type": "stream",
     "text": [
      "(1, 5, 15)\n"
     ]
    }
   ],
   "source": [
    "def tuple_data(num):\n",
    "    minimum = min(num)\n",
    "    maximum = max(num)\n",
    "    sum_tuple = sum(num)\n",
    "    return minimum,maximum,sum_tuple\n",
    "\n",
    "num = (1,2,3,4,5)\n",
    "print(tuple_data(num))"
   ]
  },
  {
   "cell_type": "code",
   "execution_count": null,
   "id": "08869de1",
   "metadata": {},
   "outputs": [],
   "source": []
  }
 ],
 "metadata": {
  "kernelspec": {
   "display_name": "base",
   "language": "python",
   "name": "python3"
  },
  "language_info": {
   "codemirror_mode": {
    "name": "ipython",
    "version": 3
   },
   "file_extension": ".py",
   "mimetype": "text/x-python",
   "name": "python",
   "nbconvert_exporter": "python",
   "pygments_lexer": "ipython3",
   "version": "3.12.7"
  }
 },
 "nbformat": 4,
 "nbformat_minor": 5
}
