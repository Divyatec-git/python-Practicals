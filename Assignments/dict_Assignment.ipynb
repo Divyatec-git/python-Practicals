{
 "cells": [
  {
   "cell_type": "markdown",
   "id": "26226de8",
   "metadata": {},
   "source": [
    "\n",
    "####  Create a dictionary with the first 10 positive integers as keys and their squares as values. Print the dictionary."
   ]
  },
  {
   "cell_type": "code",
   "execution_count": 47,
   "id": "61154490",
   "metadata": {},
   "outputs": [
    {
     "name": "stdout",
     "output_type": "stream",
     "text": [
      "{1: 11, 2: 12, 3: 13, 4: 14, 5: 15, 6: 16, 7: 17, 8: 18, 9: 19, 10: 20}\n"
     ]
    }
   ],
   "source": [
    "d1 = {i:i+10 for i in range(1,11)}\n",
    "print(d1)"
   ]
  },
  {
   "cell_type": "markdown",
   "id": "bb360286",
   "metadata": {},
   "source": [
    "### Print the value of the key 5 and the keys of the dictionary created in Assignment 1."
   ]
  },
  {
   "cell_type": "code",
   "execution_count": 48,
   "id": "224eceee",
   "metadata": {},
   "outputs": [
    {
     "name": "stdout",
     "output_type": "stream",
     "text": [
      "dict_keys([1, 2, 3, 4, 5, 6, 7, 8, 9, 10])\n",
      "15\n"
     ]
    }
   ],
   "source": [
    "print(d1.keys())\n",
    "print(d1[5])"
   ]
  },
  {
   "cell_type": "markdown",
   "id": "6adafedc",
   "metadata": {},
   "source": [
    "### Add a new key-value pair (11, 121) to the dictionary created in Assignment 1 and then remove the key-value pair with key 1. Print the modified dictionary."
   ]
  },
  {
   "cell_type": "code",
   "execution_count": 49,
   "id": "9979ccf8",
   "metadata": {},
   "outputs": [
    {
     "name": "stdout",
     "output_type": "stream",
     "text": [
      "{2: 12, 3: 13, 4: 14, 5: 15, 6: 16, 7: 17, 8: 18, 9: 19, 10: 20, 11: 121}\n"
     ]
    }
   ],
   "source": [
    "d1[11] = 121\n",
    "d1.pop(1)\n",
    "print(d1)"
   ]
  },
  {
   "cell_type": "markdown",
   "id": "3d4c5de1",
   "metadata": {},
   "source": [
    "#### Iterate over the dictionary created in Assignment 1 and print each key-value pair."
   ]
  },
  {
   "cell_type": "code",
   "execution_count": 50,
   "id": "4187fc1c",
   "metadata": {},
   "outputs": [
    {
     "name": "stdout",
     "output_type": "stream",
     "text": [
      "(2, 12)\n",
      "(3, 13)\n",
      "(4, 14)\n",
      "(5, 15)\n",
      "(6, 16)\n",
      "(7, 17)\n",
      "(8, 18)\n",
      "(9, 19)\n",
      "(10, 20)\n",
      "(11, 121)\n"
     ]
    }
   ],
   "source": [
    "for i in d1.items():\n",
    "    print(i)"
   ]
  },
  {
   "cell_type": "markdown",
   "id": "9d2678b9",
   "metadata": {},
   "source": [
    "### Create a new dictionary containing the cubes of the first 10 positive integers using a dictionary comprehension. Print the new dictionary."
   ]
  },
  {
   "cell_type": "code",
   "execution_count": 51,
   "id": "8d423412",
   "metadata": {},
   "outputs": [
    {
     "name": "stdout",
     "output_type": "stream",
     "text": [
      "{1: 1, 2: 8, 3: 27, 4: 64, 5: 125, 6: 216, 7: 343, 8: 512, 9: 729, 10: 1000}\n"
     ]
    }
   ],
   "source": [
    "cube = {i: i**3 for i in range(1, 11)}\n",
    "print(cube)"
   ]
  },
  {
   "cell_type": "markdown",
   "id": "63a0cdb3",
   "metadata": {},
   "source": [
    "#### Create two dictionaries: one with keys as the first 5 positive integers and values as their squares, and another with keys as the next 5 positive integers and values as their squares. Merge these dictionaries into a single dictionary and print it."
   ]
  },
  {
   "cell_type": "code",
   "execution_count": 52,
   "id": "82a49d72",
   "metadata": {},
   "outputs": [
    {
     "name": "stdout",
     "output_type": "stream",
     "text": [
      "{1: 1, 2: 4, 3: 9, 4: 16, 5: 25}\n",
      "{6: 36, 7: 49, 8: 64, 9: 81, 10: 100}\n",
      "{1: 1, 2: 4, 3: 9, 4: 16, 5: 25, 6: 36, 7: 49, 8: 64, 9: 81, 10: 100}\n"
     ]
    }
   ],
   "source": [
    "s1 = {i:i**2 for i in range(1,6)}\n",
    "print(s1)\n",
    "s2 = {i:i**2 for i in range(6,11)}\n",
    "print(s2)\n",
    "s1.update(s2)\n",
    "print(s1)\n",
    "\n",
    "\n",
    "\n",
    "# d1 = {i: i**2 for i in range(1, 6)}\n",
    "# d2 = {i: i**2 for i in range(6, 11)}\n",
    "# d1.update(d2)\n",
    "# print(d1)"
   ]
  },
  {
   "cell_type": "markdown",
   "id": "96ce53cb",
   "metadata": {},
   "source": [
    "#### Create a nested dictionary representing a student with keys 'name', 'age', 'grades', where 'grades' is another dictionary with keys 'math', 'science', and 'english'. Print the nested dictionary."
   ]
  },
  {
   "cell_type": "code",
   "execution_count": 53,
   "id": "29af7ddd",
   "metadata": {},
   "outputs": [
    {
     "name": "stdout",
     "output_type": "stream",
     "text": [
      "{'name': 'John Doe', 'age': 16, 'grades': {'math': 90, 'science': 85, 'english': 88}}\n"
     ]
    }
   ],
   "source": [
    "student = {\n",
    "    'name': 'John Doe',\n",
    "    'age': 16,\n",
    "    'grades': {\n",
    "        'math': 90,\n",
    "        'science': 85,\n",
    "        'english': 88\n",
    "    }\n",
    "}\n",
    "print(student)"
   ]
  },
  {
   "cell_type": "markdown",
   "id": "a16e6ed7",
   "metadata": {},
   "source": [
    "##### Create a dictionary where the keys are the first 5 positive integers and the values are lists containing the first 5 multiples of the key. Print the dictionary."
   ]
  },
  {
   "cell_type": "code",
   "execution_count": 56,
   "id": "3b920120",
   "metadata": {},
   "outputs": [
    {
     "name": "stdout",
     "output_type": "stream",
     "text": [
      "{1: [1, 2, 3, 4, 5], 2: [2, 4, 6, 8, 10], 3: [3, 6, 9, 12, 15], 4: [4, 8, 12, 16, 20], 5: [5, 10, 15, 20, 25]}\n"
     ]
    }
   ],
   "source": [
    "multiples = {j: [i * j for i in range(1, 6)] for j in range(1, 6)}\n",
    "# multiples = {i: [i * j for j in range(1, 6)] for i in range(1, 6)}\n",
    "\n",
    "print(multiples)"
   ]
  },
  {
   "cell_type": "markdown",
   "id": "43a1648a",
   "metadata": {},
   "source": [
    "##### Create a dictionary where the keys are the first 5 positive integers and the values are tuples containing the key and its square. Print the dictionary."
   ]
  },
  {
   "cell_type": "code",
   "execution_count": 58,
   "id": "d3195d37",
   "metadata": {},
   "outputs": [
    {
     "name": "stdout",
     "output_type": "stream",
     "text": [
      "{1: (1, 1), 2: (2, 4), 3: (3, 9), 4: (4, 16), 5: (5, 25)}\n",
      "{1: [1, 1], 2: [2, 4], 3: [3, 9], 4: [4, 16], 5: [5, 25]}\n"
     ]
    }
   ],
   "source": [
    "tuple_dict = {i: (i, i**2) for i in range(1, 6)}\n",
    "print(tuple_dict)\n",
    "\n",
    "list_dict = {i: [i, i**2] for i in range(1, 6)}\n",
    "print(list_dict)"
   ]
  },
  {
   "cell_type": "markdown",
   "id": "947f9956",
   "metadata": {},
   "source": [
    "##### Create a dictionary with the first 5 positive integers as keys and their squares as values. Convert the dictionary to a list of tuples and print it."
   ]
  },
  {
   "cell_type": "code",
   "execution_count": 59,
   "id": "91070327",
   "metadata": {},
   "outputs": [
    {
     "name": "stdout",
     "output_type": "stream",
     "text": [
      "[(1, 1), (2, 4), (3, 9), (4, 16), (5, 25)]\n"
     ]
    }
   ],
   "source": [
    "d = {i: i**2 for i in range(1, 6)}\n",
    "list_of_tuples = list(d.items())\n",
    "print(list_of_tuples)"
   ]
  },
  {
   "cell_type": "markdown",
   "id": "0e654344",
   "metadata": {},
   "source": [
    "##### Create a dictionary with the first 10 positive integers as keys and their squares as values. Create a new dictionary containing only the key-value pairs where the key is even. Print the new dictionary."
   ]
  },
  {
   "cell_type": "code",
   "execution_count": 62,
   "id": "4dc05c35",
   "metadata": {},
   "outputs": [
    {
     "name": "stdout",
     "output_type": "stream",
     "text": [
      "{1: 1, 2: 4, 3: 9, 4: 16, 5: 25, 6: 36, 7: 49, 8: 64, 9: 81, 10: 100}\n",
      "{2: 2, 4: 4, 6: 6, 8: 8, 10: 10}\n"
     ]
    }
   ],
   "source": [
    "d1 = {i: i**2 for i in range(1, 11)}\n",
    "print(d1)   \n",
    "d2 = {i:i  for i in range(1, 11) if i%2==0}\n",
    "print(d2)"
   ]
  },
  {
   "cell_type": "markdown",
   "id": "a225c53b",
   "metadata": {},
   "source": [
    "#### Create a dictionary with the first 5 positive integers as keys and their squares as values. Create a new dictionary with keys and values swapped. Print the new dictionary."
   ]
  },
  {
   "cell_type": "code",
   "execution_count": 65,
   "id": "0ffe1c02",
   "metadata": {},
   "outputs": [
    {
     "name": "stdout",
     "output_type": "stream",
     "text": [
      "{1: 1, 2: 4, 3: 9, 4: 16, 5: 25, 6: 36, 7: 49, 8: 64, 9: 81, 10: 100}\n",
      "{1: 1, 4: 2, 9: 3, 16: 4, 25: 5, 36: 6, 49: 7, 64: 8, 81: 9, 100: 10}\n"
     ]
    }
   ],
   "source": [
    "d1 = {i: i**2 for i in range(1, 11)}\n",
    "print(d1) \n",
    "swapped = {i: k for k, i in d1.items()}\n",
    "print(swapped)"
   ]
  },
  {
   "cell_type": "markdown",
   "id": "07472322",
   "metadata": {},
   "source": [
    "#### Create a default dictionary where each key has a default value of an empty list. Add some elements to the lists and print the dictionary."
   ]
  },
  {
   "cell_type": "code",
   "execution_count": 76,
   "id": "7885968c",
   "metadata": {},
   "outputs": [
    {
     "name": "stdout",
     "output_type": "stream",
     "text": [
      "defaultdict(<class 'list'>, {'a': [1, 2], 'b': [3]})\n"
     ]
    }
   ],
   "source": [
    "from collections import defaultdict\n",
    "\n",
    "default_dict = defaultdict(list)\n",
    "default_dict['a'].append(1)\n",
    "default_dict['a'].append(2)\n",
    "default_dict['b'].append(3)\n",
    "print(default_dict)"
   ]
  },
  {
   "cell_type": "markdown",
   "id": "a38c190d",
   "metadata": {},
   "source": [
    "#### Write a function that takes a string and returns a dictionary with the count of each character in the string. Print the dictionary."
   ]
  },
  {
   "cell_type": "code",
   "execution_count": 66,
   "id": "c8a7d9a5",
   "metadata": {},
   "outputs": [
    {
     "name": "stdout",
     "output_type": "stream",
     "text": [
      "{'h': 1, 'e': 1, 'l': 3, 'o': 2, ' ': 1, 'w': 1, 'r': 1, 'd': 1}\n"
     ]
    }
   ],
   "source": [
    "def count_chars(s):\n",
    "    count_dict = {}\n",
    "    for char in s:\n",
    "        count_dict[char] = count_dict.get(char, 0) + 1\n",
    "    return count_dict\n",
    "\n",
    "string = \"hello world\"\n",
    "print(count_chars(string))"
   ]
  },
  {
   "cell_type": "markdown",
   "id": "46b9d908",
   "metadata": {},
   "source": [
    "#### Create a dictionary representing a book with keys 'title', 'author', 'year', and 'genre'. Convert the dictionary to a JSON string and print it."
   ]
  },
  {
   "cell_type": "code",
   "execution_count": 72,
   "id": "b7742273",
   "metadata": {},
   "outputs": [
    {
     "name": "stdout",
     "output_type": "stream",
     "text": [
      "{\"title\": \"To Kill a Mockingbird\", \"author\": \"Harper Lee\", \"year\": 1960, \"genre\": \"Fiction\"}\n"
     ]
    }
   ],
   "source": [
    "import json\n",
    "\n",
    "book = {\n",
    "    'title': 'To Kill a Mockingbird',\n",
    "    'author': 'Harper Lee',\n",
    "    'year': 1960,\n",
    "    'genre': 'Fiction'\n",
    "}\n",
    "book_json = json.dumps(book)\n",
    "#json.dumps() means \"dump as string\"\n",
    "#It turns the dictionary into a JSON-formatted string\n",
    "print(book_json)"
   ]
  },
  {
   "cell_type": "code",
   "execution_count": null,
   "id": "3d7e911c",
   "metadata": {},
   "outputs": [],
   "source": []
  }
 ],
 "metadata": {
  "kernelspec": {
   "display_name": "base",
   "language": "python",
   "name": "python3"
  },
  "language_info": {
   "codemirror_mode": {
    "name": "ipython",
    "version": 3
   },
   "file_extension": ".py",
   "mimetype": "text/x-python",
   "name": "python",
   "nbconvert_exporter": "python",
   "pygments_lexer": "ipython3",
   "version": "3.12.7"
  }
 },
 "nbformat": 4,
 "nbformat_minor": 5
}
