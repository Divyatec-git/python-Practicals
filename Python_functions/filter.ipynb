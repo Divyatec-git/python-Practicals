{
 "cells": [
  {
   "cell_type": "markdown",
   "id": "34cd367d",
   "metadata": {},
   "source": [
    "#### The filter() function constructs an iterator from elements of an iterable for which a function returns true. It is used to filter out items from a list (or any other iterable) based on a condition."
   ]
  },
  {
   "cell_type": "code",
   "execution_count": 1,
   "id": "729663ee",
   "metadata": {},
   "outputs": [
    {
     "data": {
      "text/plain": [
       "True"
      ]
     },
     "execution_count": 1,
     "metadata": {},
     "output_type": "execute_result"
    }
   ],
   "source": [
    "def even(num):\n",
    "    if num%2==0:\n",
    "        return True\n",
    "even(2)"
   ]
  },
  {
   "cell_type": "code",
   "execution_count": 16,
   "id": "b011ac16",
   "metadata": {},
   "outputs": [
    {
     "name": "stdout",
     "output_type": "stream",
     "text": [
      "[2] [2, 4, 6, 8, 10, 12]\n"
     ]
    }
   ],
   "source": [
    "#using filter\n",
    "lst=[1,2,3,4,5,6,7,8,9,10,11,12]\n",
    "\n",
    "evenData = list(filter(even,[2,1]))\n",
    "evenData_lst = list(filter(even,lst))\n",
    "                \n",
    "print(evenData,evenData_lst)"
   ]
  },
  {
   "cell_type": "code",
   "execution_count": null,
   "id": "34e313ec",
   "metadata": {},
   "outputs": [
    {
     "name": "stdout",
     "output_type": "stream",
     "text": [
      "[6, 7, 8, 9, 10, 11, 12]\n",
      "[1, 2, 3, 4]\n"
     ]
    }
   ],
   "source": [
    "## filter with a Lambda Function\n",
    "lst=[1,2,3,4,5,6,7,8,9,10,11,12]\n",
    "\n",
    "greater_than_five=list(filter(lambda x:x>5,lst))\n",
    "less_than_five=list(filter(lambda x:x<5,lst))\n",
    "\n",
    "print(greater_than_five)\n",
    "print(less_than_five)"
   ]
  },
  {
   "cell_type": "code",
   "execution_count": 20,
   "id": "842b6a79",
   "metadata": {},
   "outputs": [
    {
     "name": "stdout",
     "output_type": "stream",
     "text": [
      "[6, 8, 10, 12]\n"
     ]
    }
   ],
   "source": [
    "\n",
    "## Filter with a lambda function and multiple conditions\n",
    "lst=[1,2,3,4,5,6,7,8,9,10,11,12]\n",
    "\n",
    "even_and_greater_than_five=list(filter(lambda x:x>5 and x%2==0,lst))\n",
    "print(even_and_greater_than_five)"
   ]
  },
  {
   "cell_type": "code",
   "execution_count": 22,
   "id": "1143880d",
   "metadata": {},
   "outputs": [
    {
     "data": {
      "text/plain": [
       "[{'name': 'Krish', 'age': 32}, {'name': 'Jack', 'age': 33}]"
      ]
     },
     "execution_count": 22,
     "metadata": {},
     "output_type": "execute_result"
    }
   ],
   "source": [
    "## Filter() to check if the age is greate than 25 in dictionaries\n",
    "people=[\n",
    "    {'name':'Krish','age':32},\n",
    "    {'name':'Jack','age':33},\n",
    "    {'name':'John','age':25}\n",
    "]\n",
    "\n",
    "def age_greater_than_25(person):\n",
    "    return person['age']>25\n",
    "\n",
    "list(filter(age_greater_than_25,people))"
   ]
  },
  {
   "cell_type": "code",
   "execution_count": null,
   "id": "2d1df2d1",
   "metadata": {},
   "outputs": [],
   "source": []
  }
 ],
 "metadata": {
  "kernelspec": {
   "display_name": "Python 3",
   "language": "python",
   "name": "python3"
  },
  "language_info": {
   "codemirror_mode": {
    "name": "ipython",
    "version": 3
   },
   "file_extension": ".py",
   "mimetype": "text/x-python",
   "name": "python",
   "nbconvert_exporter": "python",
   "pygments_lexer": "ipython3",
   "version": "3.12.9"
  }
 },
 "nbformat": 4,
 "nbformat_minor": 5
}
