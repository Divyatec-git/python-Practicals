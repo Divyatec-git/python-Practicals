{
 "cells": [
  {
   "cell_type": "markdown",
   "id": "f90e6e63",
   "metadata": {},
   "source": [
    "#### map() is a built-in function that applies another function to each item in an iterable (like a list) and returns a map object (which can be converted to a list)"
   ]
  },
  {
   "cell_type": "code",
   "execution_count": 4,
   "id": "fb919dcd",
   "metadata": {},
   "outputs": [
    {
     "name": "stdout",
     "output_type": "stream",
     "text": [
      "[2, 4, 6, 8, 10] using lamda\n",
      "[1, 4, 9, 16, 25] using def\n"
     ]
    }
   ],
   "source": [
    "# map(function, iterable)\n",
    "\n",
    "# function: a function to apply to each item (can be a def, lambda, etc.)\n",
    "\n",
    "#iterable: like a list, tuple, etc.\n",
    "\n",
    "nums = [1, 2, 3, 4, 5]\n",
    "result = map(lambda x: x * 2, nums)\n",
    "print(list(result),\"using lamda\")  # Output: [2, 4, 6, 8, 10]\n",
    "\n",
    "\n",
    "def square(x):\n",
    "    return x**2\n",
    "nums = [1, 2, 3, 4, 5]\n",
    "result = map(square, nums)\n",
    "print(list(result),\"using def\")  # Output: [2, 4, 6, 8, 10]"
   ]
  },
  {
   "cell_type": "code",
   "execution_count": 5,
   "id": "c362a01c",
   "metadata": {},
   "outputs": [
    {
     "name": "stdout",
     "output_type": "stream",
     "text": [
      "['HELLO', 'WORLD']\n"
     ]
    }
   ],
   "source": [
    "words = ['hello', 'world']\n",
    "result = map(str.upper, words)\n",
    "print(list(result))  # Output: ['HELLO', 'WORLD']\n"
   ]
  },
  {
   "cell_type": "code",
   "execution_count": 14,
   "id": "f1a54c04",
   "metadata": {},
   "outputs": [
    {
     "name": "stdout",
     "output_type": "stream",
     "text": [
      "[7, 9, 11]\n",
      "[7, 9, 11]\n"
     ]
    }
   ],
   "source": [
    "# with multiple paramater\n",
    "def add(x, y, z):\n",
    "    return x + y + z\n",
    "\n",
    "a = [1, 2, 3]\n",
    "b = [4, 5, 6]\n",
    "c = [2, 2, 2]\n",
    "\n",
    "result = map(add, a, b,c)\n",
    "print(list(result)) \n",
    "\n",
    "#using lambda\n",
    "result_lambda = map(lambda x,y,z : x+y+z, a, b,c)\n",
    "print(list(result_lambda)) \n"
   ]
  },
  {
   "cell_type": "code",
   "execution_count": 15,
   "id": "40c64861",
   "metadata": {},
   "outputs": [
    {
     "name": "stdout",
     "output_type": "stream",
     "text": [
      "[1, 2, 3, 4, 5]\n"
     ]
    }
   ],
   "source": [
    "## map() to convert a list of strings to integers\n",
    "# Use map to convert strings to integers\n",
    "str_numbers = ['1', '2', '3', '4', '5']\n",
    "int_numbers = list(map(int, str_numbers))\n",
    "\n",
    "print(int_numbers)  "
   ]
  },
  {
   "cell_type": "code",
   "execution_count": 17,
   "id": "21f91270",
   "metadata": {},
   "outputs": [
    {
     "data": {
      "text/plain": [
       "['Krish', 'Jack']"
      ]
     },
     "execution_count": 17,
     "metadata": {},
     "output_type": "execute_result"
    }
   ],
   "source": [
    "def get_name(person):\n",
    "    return person['name']\n",
    "\n",
    "people=[\n",
    "    {'name':'Krish','age':32},\n",
    "    {'name':'Jack','age':33}\n",
    "]\n",
    "list(map(get_name,people))"
   ]
  },
  {
   "cell_type": "code",
   "execution_count": null,
   "id": "4835ee3f",
   "metadata": {},
   "outputs": [],
   "source": []
  }
 ],
 "metadata": {
  "kernelspec": {
   "display_name": "Python 3",
   "language": "python",
   "name": "python3"
  },
  "language_info": {
   "codemirror_mode": {
    "name": "ipython",
    "version": 3
   },
   "file_extension": ".py",
   "mimetype": "text/x-python",
   "name": "python",
   "nbconvert_exporter": "python",
   "pygments_lexer": "ipython3",
   "version": "3.12.9"
  }
 },
 "nbformat": 4,
 "nbformat_minor": 5
}
