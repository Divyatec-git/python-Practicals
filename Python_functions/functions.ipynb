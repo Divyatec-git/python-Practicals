{
 "cells": [
  {
   "cell_type": "code",
   "execution_count": 1,
   "id": "d4f70a01",
   "metadata": {},
   "outputs": [],
   "source": [
    "def fun_name(param):\n",
    "    \"\"\"Docstring comment for use of function\"\"\"\n",
    "    return Expression"
   ]
  },
  {
   "cell_type": "code",
   "execution_count": 2,
   "id": "6cee9c76",
   "metadata": {},
   "outputs": [
    {
     "data": {
      "text/plain": [
       "'Odd'"
      ]
     },
     "execution_count": 2,
     "metadata": {},
     "output_type": "execute_result"
    }
   ],
   "source": [
    "def even_odd_fn(num):\n",
    "    if num % 2 == 0:\n",
    "        return \"Even\"\n",
    "    else:\n",
    "        return \"Odd\"\n",
    "    \n",
    "even_odd_fn(23)"
   ]
  },
  {
   "cell_type": "code",
   "execution_count": null,
   "id": "c86048fb",
   "metadata": {},
   "outputs": [
    {
     "ename": "SyntaxError",
     "evalue": "parameter without a default follows parameter with a default (422687746.py, line 3)",
     "output_type": "error",
     "traceback": [
      "\u001b[0;36m  Cell \u001b[0;32mIn[12], line 3\u001b[0;36m\u001b[0m\n\u001b[0;31m    def add(a=0,b):\u001b[0m\n\u001b[0m                ^\u001b[0m\n\u001b[0;31mSyntaxError\u001b[0m\u001b[0;31m:\u001b[0m parameter without a default follows parameter with a default\n"
     ]
    }
   ],
   "source": [
    "#Default prama\n",
    "\n",
    "\n",
    "\n",
    "def add(a=0,b=1):\n",
    "    return a+b\n",
    "print(add())\n",
    "print(add(5,6))\n",
    "     \n",
    "#In Python, all parameters with default values must come after all parameters without default values. This rule ensures clarity in how arguments are matched to parameters.\n",
    "\n",
    "def add(a=0,b): # this will give error \n",
    "    return a+b\n",
    "print(add())\n",
    "print(add(5,6))\n"
   ]
  },
  {
   "cell_type": "code",
   "execution_count": 16,
   "id": "86e4e89c",
   "metadata": {},
   "outputs": [
    {
     "name": "stdout",
     "output_type": "stream",
     "text": [
      "1\n",
      "4\n",
      "2\n",
      "1\n",
      "2\n",
      "5\n",
      "4\n",
      "Hello\n",
      "ABCD\n",
      "3\n",
      "2\n",
      "24\n"
     ]
    }
   ],
   "source": [
    "#possitinal arguments\n",
    "\n",
    "def print_number(*numbers):\n",
    "    for number in numbers:\n",
    "        print(number)\n",
    "print_number(1,4,2,1,2,5,4,\"Hello\",\"ABCD\",3,2,24)"
   ]
  },
  {
   "cell_type": "code",
   "execution_count": null,
   "id": "216c3e50",
   "metadata": {},
   "outputs": [
    {
     "name": "stdout",
     "output_type": "stream",
     "text": [
      "([1, 2, 3, 4, 5], (1, 2, 3, 4, 5), {1, 2, 3, 4})\n",
      "[1, 2, 3, 4, 5]\n",
      "(1, 2, 3, 4, 5)\n",
      "{1, 2, 3, 4}\n"
     ]
    }
   ],
   "source": [
    "def print_number(*numbers):\n",
    "    \n",
    "    for number in numbers:\n",
    "        print(number)\n",
    "print_number([1,2,3,4,5],(1,2,3,4,5),{1,2,3,4,1,2,3})"
   ]
  },
  {
   "cell_type": "code",
   "execution_count": 23,
   "id": "ffea7711",
   "metadata": {},
   "outputs": [
    {
     "name": "stdout",
     "output_type": "stream",
     "text": [
      "key: -  name and  value: - abcd\n",
      "key: -  age and  value: - 23\n",
      "key: -  gender and  value: - male\n",
      "key: -  education and  value: - Btech\n"
     ]
    }
   ],
   "source": [
    "#keywords arguments\n",
    "\n",
    "def details(**kwargs):\n",
    "    for key,value in kwargs.items():\n",
    "        print(f\"key: -  {key} and  value: - {value}\")\n",
    "details(name=\"abcd\",age=23,gender=\"male\",education=\"Btech\")"
   ]
  },
  {
   "cell_type": "code",
   "execution_count": 28,
   "id": "ac2fc8c4",
   "metadata": {},
   "outputs": [
    {
     "name": "stdout",
     "output_type": "stream",
     "text": [
      "Postinal arguments 4\n",
      "Postinal arguments 2\n",
      "Postinal arguments 1\n",
      "Postinal arguments 2\n",
      "Postinal arguments 5\n",
      "Postinal arguments 4\n",
      "Postinal arguments Hello\n",
      "Postinal arguments ABCD\n",
      "Postinal arguments 3\n",
      "Postinal arguments 2\n",
      "Postinal arguments 24\n",
      "keywrod arguments key: -  name and  value: - abcd\n",
      "keywrod arguments key: -  age and  value: - 23\n",
      "keywrod arguments key: -  gender and  value: - male\n",
      "keywrod arguments key: -  education and  value: - Btech\n"
     ]
    }
   ],
   "source": [
    "def details(*numbers,**kwargs):\n",
    "    for number in numbers:\n",
    "        print(\"Postinal arguments\",number)\n",
    "    for key,value in kwargs.items():\n",
    "        print(\"keywrod arguments\",f\"key: -  {key} and  value: - {value}\")\n",
    "details(4,2,1,2,5,4,\"Hello\",\"ABCD\",3,2,24,name=\"abcd\",age=23,gender=\"male\",education=\"Btech\")"
   ]
  },
  {
   "cell_type": "code",
   "execution_count": null,
   "id": "b590efc5",
   "metadata": {},
   "outputs": [],
   "source": []
  }
 ],
 "metadata": {
  "kernelspec": {
   "display_name": "Python 3",
   "language": "python",
   "name": "python3"
  },
  "language_info": {
   "codemirror_mode": {
    "name": "ipython",
    "version": 3
   },
   "file_extension": ".py",
   "mimetype": "text/x-python",
   "name": "python",
   "nbconvert_exporter": "python",
   "pygments_lexer": "ipython3",
   "version": "3.12.9"
  }
 },
 "nbformat": 4,
 "nbformat_minor": 5
}
