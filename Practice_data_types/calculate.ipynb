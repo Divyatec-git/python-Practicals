{
 "cells": [
  {
   "cell_type": "markdown",
   "id": "b253626f",
   "metadata": {},
   "source": [
    "### Type converstion"
   ]
  },
  {
   "cell_type": "code",
   "execution_count": 39,
   "id": "6bbfdc6c",
   "metadata": {},
   "outputs": [
    {
     "name": "stdout",
     "output_type": "stream",
     "text": [
      "<class 'str'>\n",
      "<class 'int'>\n",
      "********************\n",
      "<class 'str'>\n",
      "<class 'float'>\n",
      "<class 'str'>\n",
      "<class 'float'> 0.0\n",
      "<class 'bool'> True\n",
      "False python is check datatype and value\n",
      "True python is check datatype and value both data type should be same\n",
      "False python is case sensitive\n"
     ]
    }
   ],
   "source": [
    "#Integer\n",
    "a= \"10\"\n",
    "print(type(a))\n",
    "a = int(a)\n",
    "print(type(a))\n",
    "\n",
    "print('*'*20)\n",
    "\n",
    "#float\n",
    "b = \"10.5\"\n",
    "print(type(b))\n",
    "b = float(b)\n",
    "print(type(b))\n",
    "\n",
    "c =\"\"\n",
    "print(type(c))\n",
    "c= bool(c)\n",
    "c = float(c)\n",
    "print(type(c),c)\n",
    "\n",
    "d = \"test\"\n",
    "# d = float(d)  # int(c) not conever becaz it is str\n",
    "d = bool(d)\n",
    "print(type(d),d)\n",
    "\n",
    "\n",
    "a = \"10\"\n",
    "b = 10\n",
    "print(a == b,\"python is check datatype and value\")\n",
    "\n",
    "a = \"10\"\n",
    "b = \"10\"\n",
    "print(a == b,\"python is check datatype and value both data type should be same\")\n",
    "\n",
    "print(\"Test\"==\"test\",\"python is case sensitive\")\n"
   ]
  },
  {
   "cell_type": "markdown",
   "id": "3b1b15ee",
   "metadata": {},
   "source": [
    "### Calculator in python"
   ]
  },
  {
   "cell_type": "code",
   "execution_count": 36,
   "id": "46ee9efd",
   "metadata": {},
   "outputs": [
    {
     "name": "stdout",
     "output_type": "stream",
     "text": [
      "Sum of 2.0 and 4.0 is 6.0\n",
      "Subtraction of 2.0 and 4.0 is -2.0\n",
      "Multiplication of 2.0 and 4.0 is 8.0\n",
      "Division of 2.0 and 4.0 is 0.5\n",
      "Floor division of 2.0 and 4.0 is 0.0\n",
      "Modules of 2.0 and 4.0 is 2.0\n",
      "Exponent of 2.0 and 4.0 is 16.0\n"
     ]
    }
   ],
   "source": [
    "value_1 = float(input(\"Enter first number: \"))\n",
    "value_2 = float((input(\"Enter second number: \"))) # need to convert string to float because both value type will be same i.e float if str + it or float thne give error \n",
    "sum = value_1 + value_2\n",
    "sub = value_1 - value_2\n",
    "mul = value_1 * value_2\n",
    "div = value_1 / value_2\n",
    "floor_div = value_1 // value_2\n",
    "modules_ope = value_1 % value_2\n",
    "exponent = value_1 ** value_2\n",
    "\n",
    "print(f\"Sum of {value_1} and {value_2} is {sum}\")\n",
    "print(f\"Subtraction of {value_1} and {value_2} is {sub}\")\n",
    "print(f\"Multiplication of {value_1} and {value_2} is {mul}\")\n",
    "print(f\"Division of {value_1} and {value_2} is {div}\")\n",
    "print(f\"Floor division of {value_1} and {value_2} is {floor_div}\")\n",
    "print(f\"Modules of {value_1} and {value_2} is {modules_ope}\")\n",
    "print(f\"Exponent of {value_1} and {value_2} is {exponent}\")\n"
   ]
  },
  {
   "cell_type": "markdown",
   "id": "44b12990",
   "metadata": {},
   "source": []
  },
  {
   "cell_type": "markdown",
   "id": "bd96d38f",
   "metadata": {},
   "source": []
  },
  {
   "cell_type": "markdown",
   "id": "bbbc7752",
   "metadata": {},
   "source": []
  }
 ],
 "metadata": {
  "kernelspec": {
   "display_name": "Python 3",
   "language": "python",
   "name": "python3"
  },
  "language_info": {
   "codemirror_mode": {
    "name": "ipython",
    "version": 3
   },
   "file_extension": ".py",
   "mimetype": "text/x-python",
   "name": "python",
   "nbconvert_exporter": "python",
   "pygments_lexer": "ipython3",
   "version": "3.12.9"
  }
 },
 "nbformat": 4,
 "nbformat_minor": 5
}
